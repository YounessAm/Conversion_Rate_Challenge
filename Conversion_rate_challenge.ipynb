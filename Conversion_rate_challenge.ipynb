{
 "cells": [
  {
   "cell_type": "markdown",
   "metadata": {},
   "source": [
    "# Import libraries"
   ]
  },
  {
   "cell_type": "code",
   "execution_count": 164,
   "metadata": {
    "colab": {},
    "colab_type": "code",
    "id": "AGhdl7Bt2xZd"
   },
   "outputs": [],
   "source": [
    "import pandas as pd\n",
    "import numpy as np\n",
    "\n",
    "from sklearn.model_selection import train_test_split\n",
    "from sklearn.impute import SimpleImputer\n",
    "from sklearn.preprocessing import StandardScaler,OneHotEncoder\n",
    "from sklearn.compose import ColumnTransformer\n",
    "from sklearn.linear_model import LogisticRegression\n",
    "from sklearn.metrics import f1_score, confusion_matrix\n",
    "from sklearn.pipeline import Pipeline\n",
    "from sklearn.impute import SimpleImputer\n",
    "\n",
    "\n",
    "\n",
    "import matplotlib.pyplot as plt\n",
    "import plotly.express as px\n",
    "import plotly.graph_objects as go\n",
    "import plotly.io as pio\n",
    "# setting Jedha color palette as default\n",
    "pio.templates[\"jedha\"] = go.layout.Template(\n",
    "    layout_colorway=[\"#4B9AC7\", \"#4BE8E0\", \"#9DD4F3\", \"#97FBF6\", \"#2A7FAF\", \"#23B1AB\", \"#0E3449\", \"#015955\"]\n",
    ")\n",
    "pio.templates.default = \"jedha\"\n",
    "#pio.renderers.default = \"notebook\" # to be replaced by \"iframe\" if working on JULIE\n",
    "from IPython.display import display"
   ]
  },
  {
   "cell_type": "markdown",
   "metadata": {
    "colab_type": "text",
    "id": "LHgro65rxKF7"
   },
   "source": [
    "# Read file with labels"
   ]
  },
  {
   "cell_type": "code",
   "execution_count": 165,
   "metadata": {
    "colab": {
     "base_uri": "https://localhost:8080/",
     "height": 34
    },
    "colab_type": "code",
    "id": "W1AU8AH8u0qd",
    "outputId": "00698a97-027b-493b-a2e4-33fdcc295abb"
   },
   "outputs": [
    {
     "name": "stdout",
     "output_type": "stream",
     "text": [
      "Set with labels (our train+test) : (284580, 6)\n"
     ]
    }
   ],
   "source": [
    "data = pd.read_csv('Data/conversion_data_train.csv')\n",
    "print('Set with labels (our train+test) :', data.shape)"
   ]
  },
  {
   "cell_type": "code",
   "execution_count": 166,
   "metadata": {},
   "outputs": [
    {
     "data": {
      "text/html": [
       "<div>\n",
       "<style scoped>\n",
       "    .dataframe tbody tr th:only-of-type {\n",
       "        vertical-align: middle;\n",
       "    }\n",
       "\n",
       "    .dataframe tbody tr th {\n",
       "        vertical-align: top;\n",
       "    }\n",
       "\n",
       "    .dataframe thead th {\n",
       "        text-align: right;\n",
       "    }\n",
       "</style>\n",
       "<table border=\"1\" class=\"dataframe\">\n",
       "  <thead>\n",
       "    <tr style=\"text-align: right;\">\n",
       "      <th></th>\n",
       "      <th>country</th>\n",
       "      <th>age</th>\n",
       "      <th>new_user</th>\n",
       "      <th>source</th>\n",
       "      <th>total_pages_visited</th>\n",
       "      <th>converted</th>\n",
       "    </tr>\n",
       "  </thead>\n",
       "  <tbody>\n",
       "    <tr>\n",
       "      <th>0</th>\n",
       "      <td>China</td>\n",
       "      <td>22</td>\n",
       "      <td>1</td>\n",
       "      <td>Direct</td>\n",
       "      <td>2</td>\n",
       "      <td>0</td>\n",
       "    </tr>\n",
       "    <tr>\n",
       "      <th>1</th>\n",
       "      <td>UK</td>\n",
       "      <td>21</td>\n",
       "      <td>1</td>\n",
       "      <td>Ads</td>\n",
       "      <td>3</td>\n",
       "      <td>0</td>\n",
       "    </tr>\n",
       "    <tr>\n",
       "      <th>2</th>\n",
       "      <td>Germany</td>\n",
       "      <td>20</td>\n",
       "      <td>0</td>\n",
       "      <td>Seo</td>\n",
       "      <td>14</td>\n",
       "      <td>1</td>\n",
       "    </tr>\n",
       "    <tr>\n",
       "      <th>3</th>\n",
       "      <td>US</td>\n",
       "      <td>23</td>\n",
       "      <td>1</td>\n",
       "      <td>Seo</td>\n",
       "      <td>3</td>\n",
       "      <td>0</td>\n",
       "    </tr>\n",
       "    <tr>\n",
       "      <th>4</th>\n",
       "      <td>US</td>\n",
       "      <td>28</td>\n",
       "      <td>1</td>\n",
       "      <td>Direct</td>\n",
       "      <td>3</td>\n",
       "      <td>0</td>\n",
       "    </tr>\n",
       "  </tbody>\n",
       "</table>\n",
       "</div>"
      ],
      "text/plain": [
       "   country  age  new_user  source  total_pages_visited  converted\n",
       "0    China   22         1  Direct                    2          0\n",
       "1       UK   21         1     Ads                    3          0\n",
       "2  Germany   20         0     Seo                   14          1\n",
       "3       US   23         1     Seo                    3          0\n",
       "4       US   28         1  Direct                    3          0"
      ]
     },
     "execution_count": 166,
     "metadata": {},
     "output_type": "execute_result"
    }
   ],
   "source": [
    "data.head()"
   ]
  },
  {
   "cell_type": "markdown",
   "metadata": {
    "colab_type": "text",
    "id": "0XwjKBc63B1n"
   },
   "source": [
    "# Explore dataset"
   ]
  },
  {
   "cell_type": "code",
   "execution_count": 167,
   "metadata": {
    "colab": {},
    "colab_type": "code",
    "id": "NM0feCss5sLZ"
   },
   "outputs": [],
   "source": [
    "# The dataset is quite big : you must create a sample of the dataset before making any visualizations !\n",
    "data_sample = data.sample(10000)"
   ]
  },
  {
   "cell_type": "markdown",
   "metadata": {},
   "source": [
    "Let's check some relations between our variables and the target *converted* : "
   ]
  },
  {
   "cell_type": "markdown",
   "metadata": {},
   "source": [
    "0. Correlation matrix :"
   ]
  },
  {
   "cell_type": "code",
   "execution_count": 168,
   "metadata": {},
   "outputs": [
    {
     "data": {
      "application/vnd.plotly.v1+json": {
       "config": {
        "plotlyServerURL": "https://plot.ly"
       },
       "data": [
        {
         "colorscale": [
          [
           0,
           "#0d0887"
          ],
          [
           0.1111111111111111,
           "#46039f"
          ],
          [
           0.2222222222222222,
           "#7201a8"
          ],
          [
           0.3333333333333333,
           "#9c179e"
          ],
          [
           0.4444444444444444,
           "#bd3786"
          ],
          [
           0.5555555555555556,
           "#d8576b"
          ],
          [
           0.6666666666666666,
           "#ed7953"
          ],
          [
           0.7777777777777778,
           "#fb9f3a"
          ],
          [
           0.8888888888888888,
           "#fdca26"
          ],
          [
           1,
           "#f0f921"
          ]
         ],
         "reversescale": false,
         "showscale": false,
         "type": "heatmap",
         "x": [
          "age",
          "new_user",
          "total_pages_visited",
          "converted"
         ],
         "y": [
          "age",
          "new_user",
          "total_pages_visited",
          "converted"
         ],
         "z": [
          [
           1,
           0.012866222713005887,
           -0.03563554416469295,
           -0.09271066821342151
          ],
          [
           0.012866222713005887,
           1,
           -0.07006917765644576,
           -0.1501956201054384
          ],
          [
           -0.03563554416469295,
           -0.07006917765644576,
           1,
           0.5285014947806157
          ],
          [
           -0.09271066821342151,
           -0.1501956201054384,
           0.5285014947806157,
           1
          ]
         ]
        }
       ],
       "layout": {
        "annotations": [
         {
          "font": {
           "color": "#000000"
          },
          "showarrow": false,
          "text": "1.0",
          "x": "age",
          "xref": "x",
          "y": "age",
          "yref": "y"
         },
         {
          "font": {
           "color": "#FFFFFF"
          },
          "showarrow": false,
          "text": "0.012866222713005887",
          "x": "new_user",
          "xref": "x",
          "y": "age",
          "yref": "y"
         },
         {
          "font": {
           "color": "#FFFFFF"
          },
          "showarrow": false,
          "text": "-0.03563554416469295",
          "x": "total_pages_visited",
          "xref": "x",
          "y": "age",
          "yref": "y"
         },
         {
          "font": {
           "color": "#FFFFFF"
          },
          "showarrow": false,
          "text": "-0.09271066821342151",
          "x": "converted",
          "xref": "x",
          "y": "age",
          "yref": "y"
         },
         {
          "font": {
           "color": "#FFFFFF"
          },
          "showarrow": false,
          "text": "0.012866222713005887",
          "x": "age",
          "xref": "x",
          "y": "new_user",
          "yref": "y"
         },
         {
          "font": {
           "color": "#000000"
          },
          "showarrow": false,
          "text": "1.0",
          "x": "new_user",
          "xref": "x",
          "y": "new_user",
          "yref": "y"
         },
         {
          "font": {
           "color": "#FFFFFF"
          },
          "showarrow": false,
          "text": "-0.07006917765644576",
          "x": "total_pages_visited",
          "xref": "x",
          "y": "new_user",
          "yref": "y"
         },
         {
          "font": {
           "color": "#FFFFFF"
          },
          "showarrow": false,
          "text": "-0.1501956201054384",
          "x": "converted",
          "xref": "x",
          "y": "new_user",
          "yref": "y"
         },
         {
          "font": {
           "color": "#FFFFFF"
          },
          "showarrow": false,
          "text": "-0.03563554416469295",
          "x": "age",
          "xref": "x",
          "y": "total_pages_visited",
          "yref": "y"
         },
         {
          "font": {
           "color": "#FFFFFF"
          },
          "showarrow": false,
          "text": "-0.07006917765644576",
          "x": "new_user",
          "xref": "x",
          "y": "total_pages_visited",
          "yref": "y"
         },
         {
          "font": {
           "color": "#000000"
          },
          "showarrow": false,
          "text": "1.0",
          "x": "total_pages_visited",
          "xref": "x",
          "y": "total_pages_visited",
          "yref": "y"
         },
         {
          "font": {
           "color": "#000000"
          },
          "showarrow": false,
          "text": "0.5285014947806157",
          "x": "converted",
          "xref": "x",
          "y": "total_pages_visited",
          "yref": "y"
         },
         {
          "font": {
           "color": "#FFFFFF"
          },
          "showarrow": false,
          "text": "-0.09271066821342151",
          "x": "age",
          "xref": "x",
          "y": "converted",
          "yref": "y"
         },
         {
          "font": {
           "color": "#FFFFFF"
          },
          "showarrow": false,
          "text": "-0.1501956201054384",
          "x": "new_user",
          "xref": "x",
          "y": "converted",
          "yref": "y"
         },
         {
          "font": {
           "color": "#000000"
          },
          "showarrow": false,
          "text": "0.5285014947806157",
          "x": "total_pages_visited",
          "xref": "x",
          "y": "converted",
          "yref": "y"
         },
         {
          "font": {
           "color": "#000000"
          },
          "showarrow": false,
          "text": "1.0",
          "x": "converted",
          "xref": "x",
          "y": "converted",
          "yref": "y"
         }
        ],
        "template": {
         "layout": {
          "colorway": [
           "#4B9AC7",
           "#4BE8E0",
           "#9DD4F3",
           "#97FBF6",
           "#2A7FAF",
           "#23B1AB",
           "#0E3449",
           "#015955"
          ]
         }
        },
        "xaxis": {
         "dtick": 1,
         "gridcolor": "rgb(0, 0, 0)",
         "side": "top",
         "ticks": ""
        },
        "yaxis": {
         "dtick": 1,
         "ticks": "",
         "ticksuffix": "  "
        }
       }
      }
     },
     "metadata": {},
     "output_type": "display_data"
    }
   ],
   "source": [
    "# Correlation matrix\n",
    "corr_matrix = data_sample.corr()\n",
    "\n",
    "import plotly.figure_factory as ff\n",
    "\n",
    "fig = ff.create_annotated_heatmap(corr_matrix.values,\n",
    "                                  x = corr_matrix.columns.values.tolist(),\n",
    "                                  y = corr_matrix.index.values.tolist())\n",
    "\n",
    "\n",
    "fig.show()"
   ]
  },
  {
   "cell_type": "markdown",
   "metadata": {},
   "source": [
    "We see that there is an important reltion between the total pages visited and the conversion, let's discover it with a graph"
   ]
  },
  {
   "cell_type": "markdown",
   "metadata": {},
   "source": [
    "1. with *total_pages_visited*"
   ]
  },
  {
   "cell_type": "code",
   "execution_count": 169,
   "metadata": {},
   "outputs": [],
   "source": [
    "data_temp_0=data_sample.groupby('total_pages_visited').count().reset_index()"
   ]
  },
  {
   "cell_type": "code",
   "execution_count": 170,
   "metadata": {},
   "outputs": [],
   "source": [
    "data_temp=data_sample.groupby('total_pages_visited').sum().reset_index()"
   ]
  },
  {
   "cell_type": "code",
   "execution_count": 171,
   "metadata": {},
   "outputs": [
    {
     "data": {
      "application/vnd.plotly.v1+json": {
       "config": {
        "plotlyServerURL": "https://plot.ly"
       },
       "data": [
        {
         "alignmentgroup": "True",
         "hovertemplate": "total_pages_visited=%{x}<br>converted=%{y}<extra></extra>",
         "legendgroup": "",
         "marker": {
          "color": "#4B9AC7",
          "pattern": {
           "shape": ""
          }
         },
         "name": "",
         "offsetgroup": "",
         "orientation": "v",
         "showlegend": false,
         "textposition": "auto",
         "type": "bar",
         "x": [
          1,
          2,
          3,
          4,
          5,
          6,
          7,
          8,
          9,
          10,
          11,
          12,
          13,
          14,
          15,
          16,
          17,
          18,
          19,
          20,
          21,
          22,
          23,
          24
         ],
         "xaxis": "x",
         "y": [
          0,
          2,
          0,
          3,
          3,
          2,
          4,
          9,
          9,
          19,
          19,
          23,
          24,
          35,
          37,
          34,
          23,
          27,
          15,
          11,
          10,
          5,
          5,
          3
         ],
         "yaxis": "y"
        }
       ],
       "layout": {
        "barmode": "relative",
        "legend": {
         "tracegroupgap": 0
        },
        "margin": {
         "t": 60
        },
        "template": {
         "layout": {
          "colorway": [
           "#4B9AC7",
           "#4BE8E0",
           "#9DD4F3",
           "#97FBF6",
           "#2A7FAF",
           "#23B1AB",
           "#0E3449",
           "#015955"
          ]
         }
        },
        "xaxis": {
         "anchor": "y",
         "domain": [
          0,
          1
         ],
         "title": {
          "text": "total_pages_visited"
         }
        },
        "yaxis": {
         "anchor": "x",
         "domain": [
          0,
          1
         ],
         "title": {
          "text": "converted"
         }
        }
       }
      }
     },
     "metadata": {},
     "output_type": "display_data"
    }
   ],
   "source": [
    "px.bar(data_temp,x='total_pages_visited',y='converted')"
   ]
  },
  {
   "cell_type": "markdown",
   "metadata": {},
   "source": [
    "we can see that its a kind of a gaussian function, that's what we gonna check next"
   ]
  },
  {
   "cell_type": "code",
   "execution_count": 172,
   "metadata": {},
   "outputs": [],
   "source": [
    "somme=data_temp['converted'].sum()\n",
    "data_temp['convertion_prc']=data_temp['converted']/somme"
   ]
  },
  {
   "cell_type": "code",
   "execution_count": 173,
   "metadata": {},
   "outputs": [],
   "source": [
    "mean= (data_temp['total_pages_visited']*data_temp['convertion_prc']).sum()"
   ]
  },
  {
   "cell_type": "code",
   "execution_count": 174,
   "metadata": {},
   "outputs": [],
   "source": [
    "std=data_sample.loc[data_sample['converted']==1]['total_pages_visited'].std()"
   ]
  },
  {
   "cell_type": "code",
   "execution_count": 175,
   "metadata": {},
   "outputs": [
    {
     "data": {
      "text/plain": [
       "4.060008503273308"
      ]
     },
     "execution_count": 175,
     "metadata": {},
     "output_type": "execute_result"
    }
   ],
   "source": [
    "std"
   ]
  },
  {
   "cell_type": "code",
   "execution_count": 176,
   "metadata": {},
   "outputs": [
    {
     "data": {
      "application/vnd.plotly.v1+json": {
       "config": {
        "plotlyServerURL": "https://plot.ly"
       },
       "data": [
        {
         "name": "Gaussian function with mean = 14.56 and std = 4.06",
         "type": "scatter",
         "x": [
          0,
          0.1,
          0.2,
          0.30000000000000004,
          0.4,
          0.5,
          0.6000000000000001,
          0.7000000000000001,
          0.8,
          0.9,
          1,
          1.1,
          1.2000000000000002,
          1.3,
          1.4000000000000001,
          1.5,
          1.6,
          1.7000000000000002,
          1.8,
          1.9000000000000001,
          2,
          2.1,
          2.2,
          2.3000000000000003,
          2.4000000000000004,
          2.5,
          2.6,
          2.7,
          2.8000000000000003,
          2.9000000000000004,
          3,
          3.1,
          3.2,
          3.3000000000000003,
          3.4000000000000004,
          3.5,
          3.6,
          3.7,
          3.8000000000000003,
          3.9000000000000004,
          4,
          4.1000000000000005,
          4.2,
          4.3,
          4.4,
          4.5,
          4.6000000000000005,
          4.7,
          4.800000000000001,
          4.9,
          5,
          5.1000000000000005,
          5.2,
          5.300000000000001,
          5.4,
          5.5,
          5.6000000000000005,
          5.7,
          5.800000000000001,
          5.9,
          6,
          6.1000000000000005,
          6.2,
          6.300000000000001,
          6.4,
          6.5,
          6.6000000000000005,
          6.7,
          6.800000000000001,
          6.9,
          7,
          7.1000000000000005,
          7.2,
          7.300000000000001,
          7.4,
          7.5,
          7.6000000000000005,
          7.7,
          7.800000000000001,
          7.9,
          8,
          8.1,
          8.200000000000001,
          8.3,
          8.4,
          8.5,
          8.6,
          8.700000000000001,
          8.8,
          8.9,
          9,
          9.1,
          9.200000000000001,
          9.3,
          9.4,
          9.5,
          9.600000000000001,
          9.700000000000001,
          9.8,
          9.9,
          10,
          10.100000000000001,
          10.200000000000001,
          10.3,
          10.4,
          10.5,
          10.600000000000001,
          10.700000000000001,
          10.8,
          10.9,
          11,
          11.100000000000001,
          11.200000000000001,
          11.3,
          11.4,
          11.5,
          11.600000000000001,
          11.700000000000001,
          11.8,
          11.9,
          12,
          12.100000000000001,
          12.200000000000001,
          12.3,
          12.4,
          12.5,
          12.600000000000001,
          12.700000000000001,
          12.8,
          12.9,
          13,
          13.100000000000001,
          13.200000000000001,
          13.3,
          13.4,
          13.5,
          13.600000000000001,
          13.700000000000001,
          13.8,
          13.9,
          14,
          14.100000000000001,
          14.200000000000001,
          14.3,
          14.4,
          14.5,
          14.600000000000001,
          14.700000000000001,
          14.8,
          14.9,
          15,
          15.100000000000001,
          15.200000000000001,
          15.3,
          15.4,
          15.5,
          15.600000000000001,
          15.700000000000001,
          15.8,
          15.9,
          16,
          16.1,
          16.2,
          16.3,
          16.400000000000002,
          16.5,
          16.6,
          16.7,
          16.8,
          16.900000000000002,
          17,
          17.1,
          17.2,
          17.3,
          17.400000000000002,
          17.5,
          17.6,
          17.7,
          17.8,
          17.900000000000002,
          18,
          18.1,
          18.2,
          18.3,
          18.400000000000002,
          18.5,
          18.6,
          18.7,
          18.8,
          18.900000000000002,
          19,
          19.1,
          19.200000000000003,
          19.3,
          19.400000000000002,
          19.5,
          19.6,
          19.700000000000003,
          19.8,
          19.900000000000002,
          20,
          20.1,
          20.200000000000003,
          20.3,
          20.400000000000002,
          20.5,
          20.6,
          20.700000000000003,
          20.8,
          20.900000000000002,
          21,
          21.1,
          21.200000000000003,
          21.3,
          21.400000000000002,
          21.5,
          21.6,
          21.700000000000003,
          21.8,
          21.900000000000002,
          22,
          22.1,
          22.200000000000003,
          22.3,
          22.400000000000002,
          22.5,
          22.6,
          22.700000000000003,
          22.8,
          22.900000000000002,
          23,
          23.1,
          23.200000000000003,
          23.3,
          23.400000000000002,
          23.5,
          23.6,
          23.700000000000003,
          23.8,
          23.900000000000002,
          24,
          24.1,
          24.200000000000003,
          24.3,
          24.400000000000002,
          24.5,
          24.6,
          24.700000000000003,
          24.8,
          24.900000000000002,
          25,
          25.1,
          25.200000000000003,
          25.3,
          25.400000000000002,
          25.5,
          25.6,
          25.700000000000003,
          25.8,
          25.900000000000002,
          26,
          26.1,
          26.200000000000003,
          26.3,
          26.400000000000002,
          26.5,
          26.6,
          26.700000000000003,
          26.8,
          26.900000000000002,
          27,
          27.1,
          27.200000000000003,
          27.3,
          27.400000000000002,
          27.5,
          27.6,
          27.700000000000003,
          27.8,
          27.900000000000002,
          28,
          28.1,
          28.200000000000003,
          28.3,
          28.400000000000002,
          28.5,
          28.6,
          28.700000000000003,
          28.8,
          28.900000000000002,
          29,
          29.1,
          29.200000000000003,
          29.3,
          29.400000000000002,
          29.5,
          29.6,
          29.700000000000003,
          29.8,
          29.900000000000002
         ],
         "y": [
          0.00015808114133426232,
          0.00017262951805288015,
          0.000188402466345092,
          0.0002054918679300213,
          0.00022399546541368995,
          0.0002440171461264067,
          0.0002656672321476082,
          0.00028906277597333976,
          0.00031432786120769515,
          0.0003415939075822165,
          0.00037099997952658864,
          0.0004026930974301038,
          0.00043682855064660974,
          0.0004735702112060632,
          0.0005130908471038268,
          0.000555572433944692,
          0.0006012064636226287,
          0.0006501942486199036,
          0.0007027472204108885,
          0.0007590872203570159,
          0.0008194467813805549,
          0.0008840693986066544,
          0.0009532097870660965,
          0.0010271341244559734,
          0.0011061202768629134,
          0.0011904580052640482,
          0.0012804491505354855,
          0.00137640779461756,
          0.0014786603954111425,
          0.0015875458929108164,
          0.0017034157840197571,
          0.0018266341634382577,
          0.0019575777279742515,
          0.0020966357415907826,
          0.0022442099584828027,
          0.0024007145014652968,
          0.002566575692957134,
          0.0027422318358612885,
          0.0029281329416729475,
          0.0031247404031935584,
          0.0033325266092916546,
          0.0035519744992311623,
          0.0037835770541858084,
          0.0040278367236745135,
          0.004285264784787767,
          0.004556380632230381,
          0.004841710997380451,
          0.0051417890947597685,
          0.005457153694526801,
          0.005788348119839206,
          0.0061359191681901945,
          0.006500415956099879,
          0.006882388686840342,
          0.007282387341189995,
          0.0077009602915487215,
          0.008138652840100001,
          0.008596005682077261,
          0.009073553295580312,
          0.009571822259790683,
          0.010091329503850914,
          0.010632580489102783,
          0.011196067327817773,
          0.011782266842001291,
          0.012391638566306692,
          0.013024622699552965,
          0.01368163800980112,
          0.01436307969840373,
          0.01506931722889905,
          0.015800692127071924,
          0.016557515758945797,
          0.017340067093901065,
          0.018148590460530446,
          0.01898329330324096,
          0.019844343947989708,
          0.02073186938589421,
          0.02164595308378558,
          0.02258663283106986,
          0.023553898632526497,
          0.024547690656902016,
          0.025567897251345617,
          0.026614353031881872,
          0.027686837060218968,
          0.028785071117248713,
          0.029908718083601998,
          0.031057380437581543,
          0.03223059888069769,
          0.03342785110088337,
          0.03464855068325933,
          0.03589204617805764,
          0.03715762033499358,
          0.03844448951299662,
          0.03975180327377864,
          0.041078644167223045,
          0.04242402771603042,
          0.04378690260645153,
          0.045166151091278355,
          0.04656058961055351,
          0.04796896963469594,
          0.04938997873393191,
          0.05082224187706572,
          0.05226432296173011,
          0.05371472657732279,
          0.055171900000869425,
          0.05663423542505807,
          0.0581000724166688,
          0.05956770060258435,
          0.0610353625795116,
          0.06250125704248216,
          0.06396354212613355,
          0.06542033895170855,
          0.0668697353716551,
          0.06830978990266881,
          0.06973853583699943,
          0.07115398552084931,
          0.0725541347877313,
          0.0739369675337312,
          0.07530046042074354,
          0.07664258769292105,
          0.07796132609080951,
          0.07925465984692806,
          0.08052058574591359,
          0.08175711823177498,
          0.08296229454430684,
          0.08413417986629591,
          0.08527087246281818,
          0.08637050879367933,
          0.08743126857989036,
          0.08845137980500446,
          0.08942912363216506,
          0.0903628392178349,
          0.0912509284033885,
          0.09209186026605819,
          0.09288417551112532,
          0.09362649068774127,
          0.09431750221134763,
          0.09495599017633749,
          0.09554082194335763,
          0.09607095548649204,
          0.09654544248648454,
          0.09696343115715074,
          0.09732416879318938,
          0.0976270040287269,
          0.09787138879710963,
          0.09805687998369067,
          0.09818314076463458,
          0.09824994162607846,
          0.09825716105933269,
          0.09820478592917406,
          0.09809291151366856,
          0.09792174121535525,
          0.09769158594501604,
          0.0974028631806451,
          0.09705609570560442,
          0.09665191003130374,
          0.0961910345110665,
          0.09567429715312935,
          0.09510262314196662,
          0.09447703207832511,
          0.09379863494949246,
          0.0930686308423982,
          0.09228830341315594,
          0.091459017127591,
          0.09058221328815746,
          0.08965940586342681,
          0.08869217713702407,
          0.08768217319349313,
          0.08663109925908855,
          0.08554071491591582,
          0.08441282920817046,
          0.08324929565946468,
          0.0820520072203701,
          0.08082289116535386,
          0.07956390395824071,
          0.0782770261051951,
          0.07696425701399344,
          0.07562760987804171,
          0.07426910660319702,
          0.07289077279497558,
          0.07149463282317252,
          0.07008270498029641,
          0.06865699674952429,
          0.06721950019712815,
          0.06577218750351085,
          0.06431700664612122,
          0.06285587724660978,
          0.06139068659363178,
          0.059923285851719736,
          0.05845548646563367,
          0.056989056768558734,
          0.05552571880147084,
          0.054067145349925565,
          0.05261495720346117,
          0.05117072064174274,
          0.049735945150515354,
          0.048312081369393,
          0.04690051927248388,
          0.04550258658184916,
          0.044119547412821356,
          0.04275260114926417,
          0.04140288154595238,
          0.04007145605438686,
          0.03875932536753671,
          0.03746742317823045,
          0.03619661614519113,
          0.03494770406004025,
          0.0337214202079769,
          0.0325184319142745,
          0.031339341268233525,
          0.03018468601577707,
          0.029054940611486845,
          0.02795051742054348,
          0.02687176806075733,
          0.025818984874659858,
          0.024792402521459513,
          0.023792199678559414,
          0.02281850084227869,
          0.021871378217414146,
          0.020950853685326298,
          0.020056900840324816,
          0.01918944708426691,
          0.018348375769461623,
          0.01753352838019147,
          0.016744706743419775,
          0.015981675259540154,
          0.015244163144345551,
          0.014531866673741942,
          0.01384445142310318,
          0.01318155449355854,
          0.012542786717914936,
          0.011927734839344489,
          0.011335963656407138,
          0.010767018128426618,
          0.010220425435694933,
          0.009695696989438311,
          0.009192330386939245,
          0.008709811307668382,
          0.008247615346734552,
          0.007805209782412169,
          0.007382055274945678,
          0.006977607494262716,
          0.006591318674647756,
          0.006222639094833981,
          0.005871018482363534,
          0.005535907341441473,
          0.005216758203867855,
          0.0049130268029726615,
          0.004624173170799747,
          0.004349662659088586,
          0.004088966884884256,
          0.0038415646018680983,
          0.0036069424987429503,
          0.0033845959262270766,
          0.0031740295544116378,
          0.0029747579624157952,
          0.002786306162433739,
          0.0026082100604077137,
          0.0024400168556819556,
          0.0022812853820949387,
          0.0021315863930511303,
          0.0019905027931806448,
          0.0018576298192455349,
          0.0017325751729857888,
          0.0016149591086181635,
          0.0015044144777064444,
          0.0014005867341143285,
          0.0013031339017326238,
          0.0012117265076413643,
          0.0011260474833264008,
          0.0010457920365191796,
          0.0009706674961694378,
          0.0009003931329937268,
          0.0008346999579691719,
          0.0007733305010627688,
          0.0007160385724019934,
          0.000662589008004178,
          0.0006127574020901212,
          0.0005663298279126936,
          0.0005231025489346904,
          0.00048288172209209586,
          0.0004454830947802389,
          0.00041073169710148565,
          0.0003784615308145288,
          0.0003485152563277743,
          0.0003207438789829149,
          0.00029500643578020207,
          0.00027116968360434477,
          0.0002491077899197801,
          0.00022870202681661523,
          0.00020984046920390412,
          0.00019241769786551826,
          0.00017633450801571085,
          0.00016149762391673599,
          0.00014781942004975986,
          0.0001352176492627236,
          0.00012361517825496836,
          0.00011293973069827471,
          0.00010312363823749012,
          0.00009410359956115711,
          0.00008582044768340935,
          0.0000782189255328623
         ]
        },
        {
         "name": "Prc of converted sales - real values",
         "type": "bar",
         "x": [
          1,
          2,
          3,
          4,
          5,
          6,
          7,
          8,
          9,
          10,
          11,
          12,
          13,
          14,
          15,
          16,
          17,
          18,
          19,
          20,
          21,
          22,
          23,
          24
         ],
         "y": [
          0,
          0.006211180124223602,
          0,
          0.009316770186335404,
          0.009316770186335404,
          0.006211180124223602,
          0.012422360248447204,
          0.027950310559006212,
          0.027950310559006212,
          0.059006211180124224,
          0.059006211180124224,
          0.07142857142857142,
          0.07453416149068323,
          0.10869565217391304,
          0.11490683229813664,
          0.10559006211180125,
          0.07142857142857142,
          0.08385093167701864,
          0.046583850931677016,
          0.034161490683229816,
          0.031055900621118012,
          0.015527950310559006,
          0.015527950310559006,
          0.009316770186335404
         ]
        }
       ],
       "layout": {
        "template": {
         "layout": {
          "colorway": [
           "#4B9AC7",
           "#4BE8E0",
           "#9DD4F3",
           "#97FBF6",
           "#2A7FAF",
           "#23B1AB",
           "#0E3449",
           "#015955"
          ]
         }
        },
        "title": {
         "text": "Prcentage of converted sales, by pages visited "
        }
       }
      }
     },
     "metadata": {},
     "output_type": "display_data"
    }
   ],
   "source": [
    "from scipy.stats import norm\n",
    "\n",
    "\n",
    "x_axis = np.arange(0, 30, 0.1)\n",
    "\n",
    "\n",
    "# Create figure\n",
    "fig = go.Figure()\n",
    "\n",
    "fig.add_trace(\n",
    "    go.Scatter(\n",
    "        x=x_axis,\n",
    "        y=norm.pdf(x_axis,mean,std),\n",
    "        name='Gaussian function with mean = {} and std = {}'.format(round(mean,2),round(std,2))\n",
    "                ))\n",
    "\n",
    "fig.add_trace(\n",
    "    go.Bar(\n",
    "        x=data_temp['total_pages_visited'],\n",
    "        y=data_temp['convertion_prc'],\n",
    "        name='Prc of converted sales - real values'\n",
    "    )\n",
    ")\n",
    "\n",
    "# Set title\n",
    "fig.update_layout(\n",
    "    title_text=\"Prcentage of converted sales, by pages visited \"\n",
    ")"
   ]
  },
  {
   "cell_type": "markdown",
   "metadata": {},
   "source": [
    "This confirms somehow our first deduction. Which mean's that most people visit in average 15 pages before buying\n",
    "\n",
    "Let's verify now the convertion rate depending on the nb of visited pages"
   ]
  },
  {
   "cell_type": "code",
   "execution_count": 177,
   "metadata": {},
   "outputs": [],
   "source": [
    "data_temp['converstion_rate']=data_temp['converted']/data_temp_0['converted']"
   ]
  },
  {
   "cell_type": "code",
   "execution_count": 178,
   "metadata": {},
   "outputs": [
    {
     "data": {
      "application/vnd.plotly.v1+json": {
       "config": {
        "plotlyServerURL": "https://plot.ly"
       },
       "data": [
        {
         "hovertemplate": "total_pages_visited=%{x}<br>converstion_rate=%{y}<extra></extra>",
         "legendgroup": "",
         "line": {
          "color": "#4B9AC7",
          "dash": "solid"
         },
         "marker": {
          "symbol": "circle"
         },
         "mode": "lines",
         "name": "",
         "orientation": "v",
         "showlegend": false,
         "type": "scatter",
         "x": [
          1,
          2,
          3,
          4,
          5,
          6,
          7,
          8,
          9,
          10,
          11,
          12,
          13,
          14,
          15,
          16,
          17,
          18,
          19,
          20,
          21,
          22,
          23,
          24
         ],
         "xaxis": "x",
         "y": [
          0,
          0.0014316392269148174,
          0,
          0.0023734177215189874,
          0.002631578947368421,
          0.002014098690835851,
          0.005649717514124294,
          0.015985790408525755,
          0.023255813953488372,
          0.07364341085271318,
          0.11875,
          0.18110236220472442,
          0.36363636363636365,
          0.6363636363636364,
          0.7551020408163265,
          0.918918918918919,
          0.92,
          0.9642857142857143,
          1,
          1,
          1,
          1,
          1,
          1
         ],
         "yaxis": "y"
        }
       ],
       "layout": {
        "legend": {
         "tracegroupgap": 0
        },
        "margin": {
         "t": 60
        },
        "template": {
         "layout": {
          "colorway": [
           "#4B9AC7",
           "#4BE8E0",
           "#9DD4F3",
           "#97FBF6",
           "#2A7FAF",
           "#23B1AB",
           "#0E3449",
           "#015955"
          ]
         }
        },
        "xaxis": {
         "anchor": "y",
         "domain": [
          0,
          1
         ],
         "title": {
          "text": "total_pages_visited"
         }
        },
        "yaxis": {
         "anchor": "x",
         "domain": [
          0,
          1
         ],
         "title": {
          "text": "converstion_rate"
         }
        }
       }
      }
     },
     "metadata": {},
     "output_type": "display_data"
    }
   ],
   "source": [
    "px.line(data_temp,x='total_pages_visited',y='converstion_rate',)"
   ]
  },
  {
   "cell_type": "markdown",
   "metadata": {},
   "source": [
    "As expected, more pages you visite more you're up to buy the product\n",
    "\n",
    "And the function looks like a sigmoid, let's check it"
   ]
  },
  {
   "cell_type": "code",
   "execution_count": 179,
   "metadata": {},
   "outputs": [],
   "source": [
    "def sigmoid(x,lam=1,mid=0):\n",
    "    return 1/(1+np.exp(-lam*(x-mid)))\n"
   ]
  },
  {
   "cell_type": "code",
   "execution_count": 180,
   "metadata": {},
   "outputs": [
    {
     "data": {
      "application/vnd.plotly.v1+json": {
       "config": {
        "plotlyServerURL": "https://plot.ly"
       },
       "data": [
        {
         "name": "Sigmoid function",
         "type": "scatter",
         "x": [
          0,
          0.1,
          0.2,
          0.30000000000000004,
          0.4,
          0.5,
          0.6000000000000001,
          0.7000000000000001,
          0.8,
          0.9,
          1,
          1.1,
          1.2000000000000002,
          1.3,
          1.4000000000000001,
          1.5,
          1.6,
          1.7000000000000002,
          1.8,
          1.9000000000000001,
          2,
          2.1,
          2.2,
          2.3000000000000003,
          2.4000000000000004,
          2.5,
          2.6,
          2.7,
          2.8000000000000003,
          2.9000000000000004,
          3,
          3.1,
          3.2,
          3.3000000000000003,
          3.4000000000000004,
          3.5,
          3.6,
          3.7,
          3.8000000000000003,
          3.9000000000000004,
          4,
          4.1000000000000005,
          4.2,
          4.3,
          4.4,
          4.5,
          4.6000000000000005,
          4.7,
          4.800000000000001,
          4.9,
          5,
          5.1000000000000005,
          5.2,
          5.300000000000001,
          5.4,
          5.5,
          5.6000000000000005,
          5.7,
          5.800000000000001,
          5.9,
          6,
          6.1000000000000005,
          6.2,
          6.300000000000001,
          6.4,
          6.5,
          6.6000000000000005,
          6.7,
          6.800000000000001,
          6.9,
          7,
          7.1000000000000005,
          7.2,
          7.300000000000001,
          7.4,
          7.5,
          7.6000000000000005,
          7.7,
          7.800000000000001,
          7.9,
          8,
          8.1,
          8.200000000000001,
          8.3,
          8.4,
          8.5,
          8.6,
          8.700000000000001,
          8.8,
          8.9,
          9,
          9.1,
          9.200000000000001,
          9.3,
          9.4,
          9.5,
          9.600000000000001,
          9.700000000000001,
          9.8,
          9.9,
          10,
          10.100000000000001,
          10.200000000000001,
          10.3,
          10.4,
          10.5,
          10.600000000000001,
          10.700000000000001,
          10.8,
          10.9,
          11,
          11.100000000000001,
          11.200000000000001,
          11.3,
          11.4,
          11.5,
          11.600000000000001,
          11.700000000000001,
          11.8,
          11.9,
          12,
          12.100000000000001,
          12.200000000000001,
          12.3,
          12.4,
          12.5,
          12.600000000000001,
          12.700000000000001,
          12.8,
          12.9,
          13,
          13.100000000000001,
          13.200000000000001,
          13.3,
          13.4,
          13.5,
          13.600000000000001,
          13.700000000000001,
          13.8,
          13.9,
          14,
          14.100000000000001,
          14.200000000000001,
          14.3,
          14.4,
          14.5,
          14.600000000000001,
          14.700000000000001,
          14.8,
          14.9,
          15,
          15.100000000000001,
          15.200000000000001,
          15.3,
          15.4,
          15.5,
          15.600000000000001,
          15.700000000000001,
          15.8,
          15.9,
          16,
          16.1,
          16.2,
          16.3,
          16.400000000000002,
          16.5,
          16.6,
          16.7,
          16.8,
          16.900000000000002,
          17,
          17.1,
          17.2,
          17.3,
          17.400000000000002,
          17.5,
          17.6,
          17.7,
          17.8,
          17.900000000000002,
          18,
          18.1,
          18.2,
          18.3,
          18.400000000000002,
          18.5,
          18.6,
          18.7,
          18.8,
          18.900000000000002,
          19,
          19.1,
          19.200000000000003,
          19.3,
          19.400000000000002,
          19.5,
          19.6,
          19.700000000000003,
          19.8,
          19.900000000000002,
          20,
          20.1,
          20.200000000000003,
          20.3,
          20.400000000000002,
          20.5,
          20.6,
          20.700000000000003,
          20.8,
          20.900000000000002,
          21,
          21.1,
          21.200000000000003,
          21.3,
          21.400000000000002,
          21.5,
          21.6,
          21.700000000000003,
          21.8,
          21.900000000000002,
          22,
          22.1,
          22.200000000000003,
          22.3,
          22.400000000000002,
          22.5,
          22.6,
          22.700000000000003,
          22.8,
          22.900000000000002,
          23,
          23.1,
          23.200000000000003,
          23.3,
          23.400000000000002,
          23.5,
          23.6,
          23.700000000000003,
          23.8,
          23.900000000000002,
          24,
          24.1,
          24.200000000000003,
          24.3,
          24.400000000000002,
          24.5,
          24.6,
          24.700000000000003,
          24.8,
          24.900000000000002,
          25,
          25.1,
          25.200000000000003,
          25.3,
          25.400000000000002,
          25.5,
          25.6,
          25.700000000000003,
          25.8,
          25.900000000000002,
          26,
          26.1,
          26.200000000000003,
          26.3,
          26.400000000000002,
          26.5,
          26.6,
          26.700000000000003,
          26.8,
          26.900000000000002,
          27,
          27.1,
          27.200000000000003,
          27.3,
          27.400000000000002,
          27.5,
          27.6,
          27.700000000000003,
          27.8,
          27.900000000000002,
          28,
          28.1,
          28.200000000000003,
          28.3,
          28.400000000000002,
          28.5,
          28.6,
          28.700000000000003,
          28.8,
          28.900000000000002,
          29,
          29.1,
          29.200000000000003,
          29.3,
          29.400000000000002,
          29.5,
          29.6,
          29.700000000000003,
          29.8,
          29.900000000000002
         ],
         "y": [
          0.00007868337371132325,
          0.00008438808058418522,
          0.00009050635303423053,
          0.0000970681670795998,
          0.00010410567061191683,
          0.00011165334062956276,
          0.00011974815183479821,
          0.00012842975741318027,
          0.00013774068287222352,
          0.00014772653387889055,
          0.00015843621910252592,
          0.00016992218914157415,
          0.00018224069268915264,
          0.00019545205117464453,
          0.0002096209532062489,
          0.0002248167702332957,
          0.0002411138949474657,
          0.0002585921040492921,
          0.0002773369471208815,
          0.0002974401634681831,
          0.00031900012892679155,
          0.00034212233476476033,
          0.00036691990096473777,
          0.0003935141263264835,
          0.0004220350780000799,
          0.00045262222324053534,
          0.0004854251063665712,
          0.0005206040741109426,
          0.000558331052767216,
          0.0005987903807693185,
          0.0006421797005859859,
          0.0006887109140732568,
          0.0007386112057050178,
          0.0007921241383950955,
          0.0008495108269350644,
          0.0009110511944006454,
          0.0009770453172266852,
          0.0010478148650170573,
          0.0011237046415417085,
          0.001205084233778948,
          0.0012923497762873395,
          0.0013859258386380825,
          0.0014862674441058345,
          0.0015938622283030103,
          0.0017092327469491965,
          0.0018329389424928053,
          0.0019655807798448412,
          0.0021078010620432515,
          0.0022602884372385523,
          0.002423780608973963,
          0.002599067762323349,
          0.0027869962190422834,
          0.002988472335477156,
          0.0032044666575568805,
          0.0034360183477538555,
          0.003684239899435989,
          0.003950322154527816,
          0.004235539640843424,
          0.0045412562458308795,
          0.004868931243758645,
          0.005220125693558397,
          0.005596509224589802,
          0.00599986722748389,
          0.006432108466918641,
          0.0068952731326461444,
          0.007391541344281977,
          0.00792324212423499,
          0.008492862851644353,
          0.009103059208236886,
          0.009756665624551365,
          0.010456706231918071,
          0.011206406321842876,
          0.012009204309927397,
          0.01286876419605252,
          0.013788988506141561,
          0.014774031693273067,
          0.015828313967089856,
          0.01695653551020078,
          0.01816369102843253,
          0.019455084568193042,
          0.02083634451868043,
          0.02231343869903224,
          0.023892689410582785,
          0.025580788312007708,
          0.0273848109501257,
          0.02931223075135632,
          0.0313709322481939,
          0.03356922328148255,
          0.03591584588276174,
          0.03841998550156539,
          0.041091278200465015,
          0.04393981539614132,
          0.046976145678283586,
          0.05021127319026655,
          0.053656652007171894,
          0.057324175898868755,
          0.06122616281990808,
          0.06537533342557268,
          0.06978478287658012,
          0.0744679451660281,
          0.0794385491839784,
          0.08471056573073586,
          0.09029814470291991,
          0.09621554171069291,
          0.10247703344409742,
          0.10909682119561298,
          0.11608892206899496,
          0.1234670475652241,
          0.1312444694385234,
          0.1394338729616501,
          0.14804719803168948,
          0.1570954688854529,
          0.16658861357545976,
          0.1765352747791168,
          0.1869426139680464,
          0.19781611144141825,
          0.20915936521306344,
          0.22097389222018798,
          0.2332589357714573,
          0.246011283551052,
          0.25922510081784605,
          0.2728917836588707,
          0.2869998372477185,
          0.30153478399746136,
          0.3164791062636845,
          0.3318122278318339,
          0.34751053780725577,
          0.3635474597184339,
          0.37989356765690996,
          0.39651675013527377,
          0.41338242108267,
          0.4304537760607713,
          0.447692090425675,
          0.4650570548417856,
          0.48250714233361036,
          0.5,
          0.51749285766639,
          0.5349429451582147,
          0.5523079095743253,
          0.569546223939229,
          0.5866175789173301,
          0.6034832498647266,
          0.6201064323430903,
          0.6364525402815664,
          0.6524894621927445,
          0.6681877721681662,
          0.6835208937363159,
          0.6984652160025389,
          0.7130001627522817,
          0.7271082163411295,
          0.7407748991821539,
          0.7539887164489483,
          0.7667410642285428,
          0.7790261077798123,
          0.7908406347869368,
          0.8021838885585817,
          0.8130573860319538,
          0.8234647252208833,
          0.8334113864245404,
          0.8429045311145473,
          0.8519528019683106,
          0.86056612703835,
          0.8687555305614766,
          0.8765329524347761,
          0.8839110779310054,
          0.8909031788043871,
          0.8975229665559027,
          0.903784458289307,
          0.9097018552970803,
          0.9152894342692642,
          0.9205614508160216,
          0.9255320548339719,
          0.9302152171234199,
          0.9346246665744273,
          0.9387738371800921,
          0.9426758241011313,
          0.9463433479928283,
          0.9497887268097334,
          0.9530238543217163,
          0.9560601846038588,
          0.958908721799535,
          0.9615800144984347,
          0.9640841541172384,
          0.9664307767185175,
          0.9686290677518062,
          0.9706877692486436,
          0.9726151890498743,
          0.9744192116879924,
          0.9761073105894171,
          0.9776865613009679,
          0.9791636554813196,
          0.9805449154318069,
          0.9818363089715674,
          0.9830434644897993,
          0.9841716860329102,
          0.9852259683067269,
          0.9862110114938586,
          0.9871312358039476,
          0.9879907956900725,
          0.9887935936781571,
          0.9895432937680818,
          0.9902433343754488,
          0.9908969407917632,
          0.9915071371483557,
          0.992076757875765,
          0.9926084586557181,
          0.9931047268673538,
          0.9935678915330814,
          0.9940001327725162,
          0.9944034907754101,
          0.9947798743064417,
          0.9951310687562414,
          0.9954587437541691,
          0.9957644603591566,
          0.9960496778454722,
          0.9963157601005641,
          0.9965639816522461,
          0.9967955333424432,
          0.9970115276645228,
          0.9972130037809578,
          0.9974009322376768,
          0.997576219391026,
          0.9977397115627613,
          0.9978921989379567,
          0.9980344192201551,
          0.9981670610575072,
          0.9982907672530508,
          0.998406137771697,
          0.9985137325558942,
          0.998614074161362,
          0.9987076502237127,
          0.998794915766221,
          0.9988762953584583,
          0.998952185134983,
          0.9990229546827732,
          0.9990889488055994,
          0.999150489173065,
          0.9992078758616048,
          0.9992613887942949,
          0.9993112890859267,
          0.9993578202994141,
          0.9994012096192306,
          0.9994416689472329,
          0.9994793959258891,
          0.9995145748936335,
          0.9995473777767595,
          0.999577964922,
          0.9996064858736734,
          0.9996330800990352,
          0.9996578776652353,
          0.9996809998710731,
          0.9997025598365318,
          0.9997226630528793,
          0.9997414078959507,
          0.9997588861050526,
          0.9997751832297667,
          0.9997903790467937,
          0.9998045479488255,
          0.9998177593073108,
          0.9998300778108584,
          0.9998415637808975,
          0.999852273466121,
          0.9998622593171277,
          0.9998715702425869,
          0.9998802518481653,
          0.9998883466593704,
          0.999895894329388,
          0.9999029318329203,
          0.9999094936469659,
          0.9999156119194158,
          0.9999213166262887,
          0.9999266357183623,
          0.9999315952579199,
          0.9999362195462742,
          0.9999405312426889,
          0.9999445514752772,
          0.9999482999444195,
          0.9999517950191998,
          0.9999550538273355,
          0.9999580923390371,
          0.9999609254452048,
          0.9999635670303492,
          0.9999660300405855,
          0.9999683265470388,
          0.9999704678049661,
          0.9999724643088853,
          0.9999743258439833,
          0.999976061534048,
          0.9999776798861657,
          0.9999791888323978,
          0.9999805957686416,
          0.9999819075908668,
          0.9999831307289034,
          0.9999842711779451,
          0.9999853345279267,
          0.9999863259909154,
          0.9999872504266498,
          0.9999881123663553,
          0.9999889160349485,
          0.9999896653717417
         ]
        },
        {
         "name": "Convertion rate - real values",
         "type": "scatter",
         "x": [
          1,
          2,
          3,
          4,
          5,
          6,
          7,
          8,
          9,
          10,
          11,
          12,
          13,
          14,
          15,
          16,
          17,
          18,
          19,
          20,
          21,
          22,
          23,
          24
         ],
         "y": [
          0,
          0.0014316392269148174,
          0,
          0.0023734177215189874,
          0.002631578947368421,
          0.002014098690835851,
          0.005649717514124294,
          0.015985790408525755,
          0.023255813953488372,
          0.07364341085271318,
          0.11875,
          0.18110236220472442,
          0.36363636363636365,
          0.6363636363636364,
          0.7551020408163265,
          0.918918918918919,
          0.92,
          0.9642857142857143,
          1,
          1,
          1,
          1,
          1,
          1
         ]
        }
       ],
       "layout": {
        "template": {
         "layout": {
          "colorway": [
           "#4B9AC7",
           "#4BE8E0",
           "#9DD4F3",
           "#97FBF6",
           "#2A7FAF",
           "#23B1AB",
           "#0E3449",
           "#015955"
          ]
         }
        },
        "title": {
         "text": "Evolution of convertion rate with visited pages "
        }
       }
      }
     },
     "metadata": {},
     "output_type": "display_data"
    }
   ],
   "source": [
    "from scipy.stats import norm\n",
    "\n",
    "\n",
    "x_axis = np.arange(0, 30, 0.1)\n",
    "\n",
    "\n",
    "# Create figure\n",
    "fig = go.Figure()\n",
    "\n",
    "fig.add_trace(\n",
    "    go.Scatter(\n",
    "        x=x_axis,\n",
    "        y=sigmoid(x_axis,0.7,13.5),\n",
    "        name='Sigmoid function'\n",
    "                ))\n",
    "\n",
    "fig.add_trace(\n",
    "    go.Scatter(\n",
    "        x=data_temp['total_pages_visited'],\n",
    "        y=data_temp['converstion_rate'],\n",
    "        name='Convertion rate - real values'\n",
    "    )\n",
    ")\n",
    "\n",
    "# Set title\n",
    "fig.update_layout(\n",
    "    title_text=\"Evolution of convertion rate with visited pages \"\n",
    ")"
   ]
  },
  {
   "cell_type": "markdown",
   "metadata": {},
   "source": [
    "That confirms our suspisions !!"
   ]
  },
  {
   "cell_type": "markdown",
   "metadata": {},
   "source": [
    "All that means that we can only use this function for our classification and it will certunly gives us good results. But since we're in a challenge, the goal here is to have the best result !! "
   ]
  },
  {
   "cell_type": "markdown",
   "metadata": {},
   "source": [
    "Let's now check the other variables"
   ]
  },
  {
   "cell_type": "markdown",
   "metadata": {},
   "source": [
    "country\tage\tnew_user\tsource"
   ]
  },
  {
   "cell_type": "markdown",
   "metadata": {},
   "source": [
    "2. with *country*"
   ]
  },
  {
   "cell_type": "code",
   "execution_count": 181,
   "metadata": {},
   "outputs": [
    {
     "data": {
      "application/vnd.plotly.v1+json": {
       "config": {
        "plotlyServerURL": "https://plot.ly"
       },
       "data": [
        {
         "alignmentgroup": "True",
         "hovertemplate": "country=%{x}<br>converstion_rate=%{y}<extra></extra>",
         "legendgroup": "",
         "marker": {
          "color": "#4B9AC7",
          "pattern": {
           "shape": ""
          }
         },
         "name": "",
         "offsetgroup": "",
         "orientation": "v",
         "showlegend": false,
         "textposition": "auto",
         "type": "bar",
         "x": [
          "China",
          "Germany",
          "UK",
          "US"
         ],
         "xaxis": "x",
         "y": [
          0.0007968127490039841,
          0.06372549019607843,
          0.04655737704918033,
          0.040129566312758685
         ],
         "yaxis": "y"
        }
       ],
       "layout": {
        "barmode": "relative",
        "legend": {
         "tracegroupgap": 0
        },
        "template": {
         "layout": {
          "colorway": [
           "#4B9AC7",
           "#4BE8E0",
           "#9DD4F3",
           "#97FBF6",
           "#2A7FAF",
           "#23B1AB",
           "#0E3449",
           "#015955"
          ]
         }
        },
        "title": {
         "text": "Convertion rate by nation"
        },
        "xaxis": {
         "anchor": "y",
         "domain": [
          0,
          1
         ],
         "title": {
          "text": "country"
         }
        },
        "yaxis": {
         "anchor": "x",
         "domain": [
          0,
          1
         ],
         "title": {
          "text": "converstion_rate"
         }
        }
       }
      }
     },
     "metadata": {},
     "output_type": "display_data"
    }
   ],
   "source": [
    "data_temp_0=data_sample.groupby('country').count().reset_index()\n",
    "data_temp=data_sample.groupby('country').sum().reset_index()\n",
    "\n",
    "data_temp['nb_users']=data_temp_0['converted']\n",
    "data_temp['converstion_rate']=data_temp['converted']/data_temp['nb_users']\n",
    "\n",
    "px.bar(data_temp,x='country',y='converstion_rate',title='Convertion rate by nation')"
   ]
  },
  {
   "cell_type": "code",
   "execution_count": 182,
   "metadata": {},
   "outputs": [
    {
     "data": {
      "application/vnd.plotly.v1+json": {
       "config": {
        "plotlyServerURL": "https://plot.ly"
       },
       "data": [
        {
         "alignmentgroup": "True",
         "hovertemplate": "country=%{x}<br>nb_users=%{y}<extra></extra>",
         "legendgroup": "",
         "marker": {
          "color": "#4B9AC7",
          "pattern": {
           "shape": ""
          }
         },
         "name": "",
         "offsetgroup": "",
         "orientation": "v",
         "showlegend": false,
         "textposition": "auto",
         "type": "bar",
         "x": [
          "China",
          "Germany",
          "UK",
          "US"
         ],
         "xaxis": "x",
         "y": [
          2510,
          408,
          1525,
          5557
         ],
         "yaxis": "y"
        }
       ],
       "layout": {
        "barmode": "relative",
        "legend": {
         "tracegroupgap": 0
        },
        "template": {
         "layout": {
          "colorway": [
           "#4B9AC7",
           "#4BE8E0",
           "#9DD4F3",
           "#97FBF6",
           "#2A7FAF",
           "#23B1AB",
           "#0E3449",
           "#015955"
          ]
         }
        },
        "title": {
         "text": "Nb of users by nation"
        },
        "xaxis": {
         "anchor": "y",
         "domain": [
          0,
          1
         ],
         "title": {
          "text": "country"
         }
        },
        "yaxis": {
         "anchor": "x",
         "domain": [
          0,
          1
         ],
         "title": {
          "text": "nb_users"
         }
        }
       }
      }
     },
     "metadata": {},
     "output_type": "display_data"
    }
   ],
   "source": [
    "px.bar(data_temp,x='country',y='nb_users',title='Nb of users by nation')"
   ]
  },
  {
   "cell_type": "markdown",
   "metadata": {},
   "source": [
    "UK has the bigest convertion rate, but it's not really significant since their users numbers are quite low comparing to US or China"
   ]
  },
  {
   "cell_type": "markdown",
   "metadata": {},
   "source": [
    "3. with *age*"
   ]
  },
  {
   "cell_type": "code",
   "execution_count": 183,
   "metadata": {},
   "outputs": [
    {
     "data": {
      "application/vnd.plotly.v1+json": {
       "config": {
        "plotlyServerURL": "https://plot.ly"
       },
       "data": [
        {
         "alignmentgroup": "True",
         "hovertemplate": "age=%{x}<br>converstion_rate=%{y}<extra></extra>",
         "legendgroup": "",
         "marker": {
          "color": "#4B9AC7",
          "pattern": {
           "shape": ""
          }
         },
         "name": "",
         "offsetgroup": "",
         "orientation": "v",
         "showlegend": false,
         "textposition": "auto",
         "type": "bar",
         "x": [
          17,
          18,
          19,
          20,
          21,
          22,
          23,
          24,
          25,
          26,
          27,
          28,
          29,
          30,
          31,
          32,
          33,
          34,
          35,
          36,
          37,
          38,
          39,
          40,
          41,
          42,
          43,
          44,
          45,
          46,
          47,
          48,
          49,
          50,
          51,
          52,
          53,
          54,
          55,
          56,
          57,
          58,
          59,
          60,
          61,
          62,
          63,
          64,
          65
         ],
         "xaxis": "x",
         "y": [
          0.08403361344537816,
          0.07913669064748201,
          0.057750759878419454,
          0.05263157894736842,
          0.0377906976744186,
          0.06806282722513089,
          0.06027397260273973,
          0.055415617128463476,
          0.03546099290780142,
          0.03991130820399113,
          0.03051643192488263,
          0.024070021881838075,
          0.022573363431151242,
          0.026490066225165563,
          0.016241299303944315,
          0.02320185614849188,
          0.01288659793814433,
          0.02452316076294278,
          0.014285714285714285,
          0.03089887640449438,
          0.023333333333333334,
          0.014814814814814815,
          0.011538461538461539,
          0.02066115702479339,
          0.015463917525773196,
          0.019801980198019802,
          0,
          0.008,
          0.034782608695652174,
          0.011111111111111112,
          0.013888888888888888,
          0.015151515151515152,
          0,
          0,
          0.02564102564102564,
          0,
          0,
          0,
          0,
          0,
          0,
          0,
          0,
          0,
          0,
          0,
          0,
          0,
          0
         ],
         "yaxis": "y"
        }
       ],
       "layout": {
        "barmode": "relative",
        "legend": {
         "tracegroupgap": 0
        },
        "template": {
         "layout": {
          "colorway": [
           "#4B9AC7",
           "#4BE8E0",
           "#9DD4F3",
           "#97FBF6",
           "#2A7FAF",
           "#23B1AB",
           "#0E3449",
           "#015955"
          ]
         }
        },
        "title": {
         "text": "Convertion rate by age"
        },
        "xaxis": {
         "anchor": "y",
         "domain": [
          0,
          1
         ],
         "title": {
          "text": "age"
         }
        },
        "yaxis": {
         "anchor": "x",
         "domain": [
          0,
          1
         ],
         "title": {
          "text": "converstion_rate"
         }
        }
       }
      }
     },
     "metadata": {},
     "output_type": "display_data"
    }
   ],
   "source": [
    "data_temp_0=data_sample.groupby('age').count().reset_index()\n",
    "data_temp=data_sample.groupby('age').sum().reset_index()\n",
    "\n",
    "data_temp['nb_users']=data_temp_0['converted']\n",
    "data_temp['converstion_rate']=data_temp['converted']/data_temp['nb_users']\n",
    "\n",
    "px.bar(data_temp,x='age',y='converstion_rate',title='Convertion rate by age')"
   ]
  },
  {
   "cell_type": "code",
   "execution_count": 184,
   "metadata": {},
   "outputs": [
    {
     "data": {
      "application/vnd.plotly.v1+json": {
       "config": {
        "plotlyServerURL": "https://plot.ly"
       },
       "data": [
        {
         "alignmentgroup": "True",
         "hovertemplate": "age=%{x}<br>converted=%{y}<extra></extra>",
         "legendgroup": "",
         "marker": {
          "color": "#4B9AC7",
          "pattern": {
           "shape": ""
          }
         },
         "name": "",
         "offsetgroup": "",
         "orientation": "v",
         "showlegend": false,
         "textposition": "auto",
         "type": "bar",
         "x": [
          17,
          18,
          19,
          20,
          21,
          22,
          23,
          24,
          25,
          26,
          27,
          28,
          29,
          30,
          31,
          32,
          33,
          34,
          35,
          36,
          37,
          38,
          39,
          40,
          41,
          42,
          43,
          44,
          45,
          46,
          47,
          48,
          49,
          50,
          51,
          52,
          53,
          54,
          55,
          56,
          57,
          58,
          59,
          60,
          61,
          62,
          63,
          64,
          65
         ],
         "xaxis": "x",
         "y": [
          20,
          22,
          19,
          17,
          13,
          26,
          22,
          22,
          15,
          18,
          13,
          11,
          10,
          12,
          7,
          10,
          5,
          9,
          5,
          11,
          7,
          4,
          3,
          5,
          3,
          4,
          0,
          1,
          4,
          1,
          1,
          1,
          0,
          0,
          1,
          0,
          0,
          0,
          0,
          0,
          0,
          0,
          0,
          0,
          0,
          0,
          0,
          0,
          0
         ],
         "yaxis": "y"
        }
       ],
       "layout": {
        "barmode": "relative",
        "legend": {
         "tracegroupgap": 0
        },
        "template": {
         "layout": {
          "colorway": [
           "#4B9AC7",
           "#4BE8E0",
           "#9DD4F3",
           "#97FBF6",
           "#2A7FAF",
           "#23B1AB",
           "#0E3449",
           "#015955"
          ]
         }
        },
        "title": {
         "text": "Number of convertion by age"
        },
        "xaxis": {
         "anchor": "y",
         "domain": [
          0,
          1
         ],
         "title": {
          "text": "age"
         }
        },
        "yaxis": {
         "anchor": "x",
         "domain": [
          0,
          1
         ],
         "title": {
          "text": "converted"
         }
        }
       }
      }
     },
     "metadata": {},
     "output_type": "display_data"
    }
   ],
   "source": [
    "px.bar(data_temp,x='age',y='converted',title='Number of convertion by age')"
   ]
  },
  {
   "cell_type": "code",
   "execution_count": 185,
   "metadata": {},
   "outputs": [
    {
     "data": {
      "application/vnd.plotly.v1+json": {
       "config": {
        "plotlyServerURL": "https://plot.ly"
       },
       "data": [
        {
         "alignmentgroup": "True",
         "hovertemplate": "age=%{x}<br>nb_users=%{y}<extra></extra>",
         "legendgroup": "",
         "marker": {
          "color": "#4B9AC7",
          "pattern": {
           "shape": ""
          }
         },
         "name": "",
         "offsetgroup": "",
         "orientation": "v",
         "showlegend": false,
         "textposition": "auto",
         "type": "bar",
         "x": [
          17,
          18,
          19,
          20,
          21,
          22,
          23,
          24,
          25,
          26,
          27,
          28,
          29,
          30,
          31,
          32,
          33,
          34,
          35,
          36,
          37,
          38,
          39,
          40,
          41,
          42,
          43,
          44,
          45,
          46,
          47,
          48,
          49,
          50,
          51,
          52,
          53,
          54,
          55,
          56,
          57,
          58,
          59,
          60,
          61,
          62,
          63,
          64,
          65
         ],
         "xaxis": "x",
         "y": [
          238,
          278,
          329,
          323,
          344,
          382,
          365,
          397,
          423,
          451,
          426,
          457,
          443,
          453,
          431,
          431,
          388,
          367,
          350,
          356,
          300,
          270,
          260,
          242,
          194,
          202,
          160,
          125,
          115,
          90,
          72,
          66,
          65,
          50,
          39,
          32,
          25,
          14,
          10,
          9,
          6,
          8,
          4,
          2,
          2,
          1,
          3,
          1,
          1
         ],
         "yaxis": "y"
        }
       ],
       "layout": {
        "barmode": "relative",
        "legend": {
         "tracegroupgap": 0
        },
        "template": {
         "layout": {
          "colorway": [
           "#4B9AC7",
           "#4BE8E0",
           "#9DD4F3",
           "#97FBF6",
           "#2A7FAF",
           "#23B1AB",
           "#0E3449",
           "#015955"
          ]
         }
        },
        "title": {
         "text": "Nb of users by age"
        },
        "xaxis": {
         "anchor": "y",
         "domain": [
          0,
          1
         ],
         "title": {
          "text": "age"
         }
        },
        "yaxis": {
         "anchor": "x",
         "domain": [
          0,
          1
         ],
         "title": {
          "text": "nb_users"
         }
        }
       }
      }
     },
     "metadata": {},
     "output_type": "display_data"
    }
   ],
   "source": [
    "px.bar(data_temp,x='age',y='nb_users',title='Nb of users by age')"
   ]
  },
  {
   "cell_type": "markdown",
   "metadata": {},
   "source": [
    "We can only see here that the conversion rate is 0 for all users that have more than 49 years"
   ]
  },
  {
   "cell_type": "markdown",
   "metadata": {},
   "source": [
    "4. with *new_user*"
   ]
  },
  {
   "cell_type": "code",
   "execution_count": 186,
   "metadata": {},
   "outputs": [
    {
     "data": {
      "application/vnd.plotly.v1+json": {
       "config": {
        "plotlyServerURL": "https://plot.ly"
       },
       "data": [
        {
         "alignmentgroup": "True",
         "hovertemplate": "new_user=%{x}<br>converstion_rate=%{y}<extra></extra>",
         "legendgroup": "",
         "marker": {
          "color": "#4B9AC7",
          "pattern": {
           "shape": ""
          }
         },
         "name": "",
         "offsetgroup": "",
         "orientation": "v",
         "showlegend": false,
         "textposition": "auto",
         "type": "bar",
         "x": [
          0,
          1
         ],
         "xaxis": "x",
         "y": [
          0.07100219918316054,
          0.014082440956432449
         ],
         "yaxis": "y"
        }
       ],
       "layout": {
        "barmode": "relative",
        "legend": {
         "tracegroupgap": 0
        },
        "template": {
         "layout": {
          "colorway": [
           "#4B9AC7",
           "#4BE8E0",
           "#9DD4F3",
           "#97FBF6",
           "#2A7FAF",
           "#23B1AB",
           "#0E3449",
           "#015955"
          ]
         }
        },
        "title": {
         "text": "Convertion rate of new_users"
        },
        "xaxis": {
         "anchor": "y",
         "domain": [
          0,
          1
         ],
         "title": {
          "text": "new_user"
         }
        },
        "yaxis": {
         "anchor": "x",
         "domain": [
          0,
          1
         ],
         "title": {
          "text": "converstion_rate"
         }
        }
       }
      }
     },
     "metadata": {},
     "output_type": "display_data"
    }
   ],
   "source": [
    "data_temp_0=data_sample.groupby('new_user').count().reset_index()\n",
    "data_temp=data_sample.groupby('new_user').sum().reset_index()\n",
    "\n",
    "data_temp['nb_users']=data_temp_0['converted']\n",
    "data_temp['converstion_rate']=data_temp['converted']/data_temp['nb_users']\n",
    "\n",
    "px.bar(data_temp,x='new_user',y='converstion_rate',title='Convertion rate of new_users')"
   ]
  },
  {
   "cell_type": "markdown",
   "metadata": {},
   "source": [
    "We can see here that a new user has less chances to buy the product than an old user"
   ]
  },
  {
   "cell_type": "markdown",
   "metadata": {},
   "source": [
    "5. with *source*"
   ]
  },
  {
   "cell_type": "code",
   "execution_count": 187,
   "metadata": {},
   "outputs": [
    {
     "data": {
      "application/vnd.plotly.v1+json": {
       "config": {
        "plotlyServerURL": "https://plot.ly"
       },
       "data": [
        {
         "alignmentgroup": "True",
         "hovertemplate": "source=%{x}<br>converstion_rate=%{y}<extra></extra>",
         "legendgroup": "",
         "marker": {
          "color": "#4B9AC7",
          "pattern": {
           "shape": ""
          }
         },
         "name": "",
         "offsetgroup": "",
         "orientation": "v",
         "showlegend": false,
         "textposition": "auto",
         "type": "bar",
         "x": [
          "Ads",
          "Direct",
          "Seo"
         ],
         "xaxis": "x",
         "y": [
          0.03558967201674808,
          0.030598669623059866,
          0.03094896495183439
         ],
         "yaxis": "y"
        }
       ],
       "layout": {
        "barmode": "relative",
        "legend": {
         "tracegroupgap": 0
        },
        "template": {
         "layout": {
          "colorway": [
           "#4B9AC7",
           "#4BE8E0",
           "#9DD4F3",
           "#97FBF6",
           "#2A7FAF",
           "#23B1AB",
           "#0E3449",
           "#015955"
          ]
         }
        },
        "title": {
         "text": "Convertion rate depending on source"
        },
        "xaxis": {
         "anchor": "y",
         "domain": [
          0,
          1
         ],
         "title": {
          "text": "source"
         }
        },
        "yaxis": {
         "anchor": "x",
         "domain": [
          0,
          1
         ],
         "title": {
          "text": "converstion_rate"
         }
        }
       }
      }
     },
     "metadata": {},
     "output_type": "display_data"
    }
   ],
   "source": [
    "data_temp_0=data_sample.groupby('source').count().reset_index()\n",
    "data_temp=data_sample.groupby('source').sum().reset_index()\n",
    "\n",
    "data_temp['nb_users']=data_temp_0['converted']\n",
    "data_temp['converstion_rate']=data_temp['converted']/data_temp['nb_users']\n",
    "\n",
    "px.bar(data_temp,x='source',y='converstion_rate',title='Convertion rate depending on source')"
   ]
  },
  {
   "cell_type": "code",
   "execution_count": 188,
   "metadata": {},
   "outputs": [
    {
     "data": {
      "application/vnd.plotly.v1+json": {
       "config": {
        "plotlyServerURL": "https://plot.ly"
       },
       "data": [
        {
         "alignmentgroup": "True",
         "hovertemplate": "source=%{x}<br>nb_users=%{y}<extra></extra>",
         "legendgroup": "",
         "marker": {
          "color": "#4B9AC7",
          "pattern": {
           "shape": ""
          }
         },
         "name": "",
         "offsetgroup": "",
         "orientation": "v",
         "showlegend": false,
         "textposition": "auto",
         "type": "bar",
         "x": [
          "Ads",
          "Direct",
          "Seo"
         ],
         "xaxis": "x",
         "y": [
          2866,
          2255,
          4879
         ],
         "yaxis": "y"
        }
       ],
       "layout": {
        "barmode": "relative",
        "legend": {
         "tracegroupgap": 0
        },
        "template": {
         "layout": {
          "colorway": [
           "#4B9AC7",
           "#4BE8E0",
           "#9DD4F3",
           "#97FBF6",
           "#2A7FAF",
           "#23B1AB",
           "#0E3449",
           "#015955"
          ]
         }
        },
        "title": {
         "text": "Nb of users from sources"
        },
        "xaxis": {
         "anchor": "y",
         "domain": [
          0,
          1
         ],
         "title": {
          "text": "source"
         }
        },
        "yaxis": {
         "anchor": "x",
         "domain": [
          0,
          1
         ],
         "title": {
          "text": "nb_users"
         }
        }
       }
      }
     },
     "metadata": {},
     "output_type": "display_data"
    }
   ],
   "source": [
    "px.bar(data_temp,x='source',y='nb_users',title='Nb of users from sources')"
   ]
  },
  {
   "cell_type": "markdown",
   "metadata": {},
   "source": [
    "We can see here that there are more users comming from SEO, but the other sources are not to be neglected since Ads has the biggest convertion rate"
   ]
  },
  {
   "cell_type": "markdown",
   "metadata": {
    "colab_type": "text",
    "id": "70MwsoCS3QD5"
   },
   "source": [
    "# Make your model"
   ]
  },
  {
   "cell_type": "markdown",
   "metadata": {
    "colab_type": "text",
    "id": "dPh1qPTf3wZU"
   },
   "source": [
    "## Choose variables to use in the model, and create train and test sets\n",
    "**From the EDA, we know that all features have impact on the convertion rate with the most useful feature is total_pages_visited. Let's create a baseline model by using at first only this feature : in the next cells, we'll make preprocessings and train a logistic regression.**"
   ]
  },
  {
   "cell_type": "code",
   "execution_count": 189,
   "metadata": {
    "colab": {},
    "colab_type": "code",
    "id": "sjEHMGoY3kMB"
   },
   "outputs": [],
   "source": [
    "features_list = ['country',\t'age',\t'new_user',\t'source', 'total_pages_visited']\n",
    "numeric_indices = [1,4]\n",
    "categorical2_indices = [0,3]\n",
    "categorical1_indices = [2]\n",
    "target_variable = 'converted'"
   ]
  },
  {
   "cell_type": "code",
   "execution_count": 190,
   "metadata": {
    "colab": {
     "base_uri": "https://localhost:8080/",
     "height": 50
    },
    "colab_type": "code",
    "id": "SV5E9KMs4xcq",
    "outputId": "9d1ed76e-e82e-45e7-f3e5-6d47962caa5a"
   },
   "outputs": [
    {
     "name": "stdout",
     "output_type": "stream",
     "text": [
      "Explanatory variables :  Index(['country', 'age', 'new_user', 'source', 'total_pages_visited'], dtype='object')\n",
      "\n"
     ]
    }
   ],
   "source": [
    "X = data.loc[:, features_list]\n",
    "Y = data.loc[:, target_variable]\n",
    "\n",
    "print('Explanatory variables : ', X.columns)\n",
    "print()"
   ]
  },
  {
   "cell_type": "code",
   "execution_count": 191,
   "metadata": {
    "colab": {
     "base_uri": "https://localhost:8080/",
     "height": 67
    },
    "colab_type": "code",
    "id": "W8K5DQEvvQgl",
    "outputId": "d280ebc9-4d4b-4723-b9fe-32513f898abc"
   },
   "outputs": [
    {
     "name": "stdout",
     "output_type": "stream",
     "text": [
      "Dividing into train and test sets...\n",
      "...Done.\n",
      "\n"
     ]
    }
   ],
   "source": [
    "# Divide dataset Train set & Test set \n",
    "print(\"Dividing into train and test sets...\")\n",
    "X_train, X_test, Y_train, Y_test = train_test_split(X, Y, test_size=0.1, random_state=0)\n",
    "print(\"...Done.\")\n",
    "print()"
   ]
  },
  {
   "cell_type": "code",
   "execution_count": 192,
   "metadata": {
    "colab": {
     "base_uri": "https://localhost:8080/",
     "height": 218
    },
    "colab_type": "code",
    "id": "vVu0eXQD4xVc",
    "outputId": "83a5f553-f50d-44dc-d12a-6cb21e74e4d7"
   },
   "outputs": [
    {
     "name": "stdout",
     "output_type": "stream",
     "text": [
      "Convert pandas DataFrames to numpy arrays...\n",
      "...Done\n",
      "[['China' 23 0 'Direct' 4]\n",
      " ['US' 25 1 'Direct' 8]\n",
      " ['US' 32 1 'Seo' 2]\n",
      " ['US' 37 1 'Seo' 3]\n",
      " ['UK' 24 1 'Direct' 4]]\n",
      "[['US' 20 1 'Ads' 7]\n",
      " ['US' 31 1 'Seo' 5]]\n",
      "\n",
      "[0 0 0 0 0]\n",
      "[0 0]\n"
     ]
    }
   ],
   "source": [
    "# Convert pandas DataFrames to numpy arrays before using scikit-learn\n",
    "print(\"Convert pandas DataFrames to numpy arrays...\")\n",
    "X_train = X_train.values\n",
    "X_test = X_test.values\n",
    "Y_train = Y_train.values\n",
    "Y_test = Y_test.values\n",
    "print(\"...Done\")\n",
    "\n",
    "print(X_train[0:5,:])\n",
    "print(X_test[0:2,:])\n",
    "print()\n",
    "print(Y_train[0:5])\n",
    "print(Y_test[0:2])"
   ]
  },
  {
   "cell_type": "markdown",
   "metadata": {
    "colab_type": "text",
    "id": "7b_aU7ij7K3Q"
   },
   "source": [
    "## Training pipeline"
   ]
  },
  {
   "cell_type": "code",
   "execution_count": 193,
   "metadata": {},
   "outputs": [],
   "source": [
    "categorical1_transformer = Pipeline(\n",
    "    steps=[\n",
    "    ('imputer', SimpleImputer(strategy='most_frequent')), # missing values will be replaced by most frequent value\n",
    "    ('encoder', OneHotEncoder(drop='first')) # first column will be dropped to avoid creating correlations between features\n",
    "    ])\n",
    "\n",
    "categorical2_transformer = Pipeline(\n",
    "    steps=[\n",
    "    ('imputer', SimpleImputer(strategy='most_frequent')), # missing values will be replaced by most frequent value\n",
    "    ('encoder', OneHotEncoder()) # first column will be dropped to avoid creating correlations between features\n",
    "    ])\n",
    "\n",
    "numeric_transformer = Pipeline(steps=[\n",
    "    ('imputer', SimpleImputer(strategy='mean')), # missing values will be replaced by columns' mean\n",
    "    ('scaler', StandardScaler())\n",
    "])\n",
    "\n",
    "preprocessor = ColumnTransformer(\n",
    "    transformers=[\n",
    "        ('num', numeric_transformer, numeric_indices),\n",
    "        ('cat', categorical1_transformer, categorical1_indices),\n",
    "        ('cat2', categorical2_transformer, categorical2_indices)\n",
    "    ])"
   ]
  },
  {
   "cell_type": "code",
   "execution_count": 194,
   "metadata": {
    "colab": {
     "base_uri": "https://localhost:8080/",
     "height": 235
    },
    "colab_type": "code",
    "id": "_9bEZ5bn7I5Z",
    "outputId": "ad5c8f97-2d25-4827-f1ee-43c665a97fa0"
   },
   "outputs": [
    {
     "name": "stdout",
     "output_type": "stream",
     "text": [
      "Encoding categorical features and standardizing numerical features...\n",
      "...Done\n",
      "[[-0.91516278 -0.26070136  0.          1.          0.          0.\n",
      "   0.          0.          1.          0.        ]\n",
      " [-0.67320988  0.93728655  1.          0.          0.          0.\n",
      "   1.          0.          1.          0.        ]\n",
      " [ 0.17362526 -0.85969532  1.          0.          0.          0.\n",
      "   1.          0.          0.          1.        ]\n",
      " [ 0.7785075  -0.56019834  1.          0.          0.          0.\n",
      "   1.          0.          0.          1.        ]\n",
      " [-0.79418633 -0.26070136  1.          0.          0.          1.\n",
      "   0.          0.          1.          0.        ]]\n"
     ]
    }
   ],
   "source": [
    "# Put here all the preprocessings\n",
    "print(\"Encoding categorical features and standardizing numerical features...\")\n",
    "X_train = preprocessor.fit_transform(X_train)\n",
    "print(\"...Done\")\n",
    "print(X_train[0:5,:])"
   ]
  },
  {
   "cell_type": "code",
   "execution_count": 195,
   "metadata": {
    "colab": {
     "base_uri": "https://localhost:8080/",
     "height": 104
    },
    "colab_type": "code",
    "id": "1qhidLbq7o-5",
    "outputId": "6bfb746c-1ff4-41c9-b0d6-a98fd09a444d"
   },
   "outputs": [
    {
     "name": "stdout",
     "output_type": "stream",
     "text": [
      "Train model...\n",
      "...Done.\n"
     ]
    }
   ],
   "source": [
    "# Train model\n",
    "print(\"Train model...\")\n",
    "classifier = LogisticRegression() # \n",
    "classifier.fit(X_train, Y_train)\n",
    "print(\"...Done.\")"
   ]
  },
  {
   "cell_type": "code",
   "execution_count": 196,
   "metadata": {
    "colab": {
     "base_uri": "https://localhost:8080/",
     "height": 84
    },
    "colab_type": "code",
    "id": "Au2TK_vw7rD-",
    "outputId": "702789a8-4631-4c29-f297-e4b2901f3195"
   },
   "outputs": [
    {
     "name": "stdout",
     "output_type": "stream",
     "text": [
      "Predictions on training set...\n",
      "...Done.\n",
      "[0 0 0 ... 0 0 0]\n",
      "\n"
     ]
    }
   ],
   "source": [
    "# Predictions on training set\n",
    "print(\"Predictions on training set...\")\n",
    "Y_train_pred = classifier.predict(X_train)\n",
    "print(\"...Done.\")\n",
    "print(Y_train_pred)\n",
    "print()"
   ]
  },
  {
   "cell_type": "markdown",
   "metadata": {
    "colab_type": "text",
    "id": "7TY_v9uH_CE7"
   },
   "source": [
    "## Test pipeline"
   ]
  },
  {
   "cell_type": "code",
   "execution_count": 197,
   "metadata": {
    "colab": {
     "base_uri": "https://localhost:8080/",
     "height": 134
    },
    "colab_type": "code",
    "id": "ngOSdG6-_Cvb",
    "outputId": "1e19e8ee-222f-413b-9bc0-e9f41dcca1c0"
   },
   "outputs": [
    {
     "name": "stdout",
     "output_type": "stream",
     "text": [
      "Encoding categorical features and standardizing numerical features...\n",
      "...Done\n",
      "[[-1.27809213  0.63778957  1.          0.          0.          0.\n",
      "   1.          1.          0.          0.        ]\n",
      " [ 0.05264881  0.03879562  1.          0.          0.          0.\n",
      "   1.          0.          0.          1.        ]\n",
      " [-0.31028053 -0.26070136  0.          0.          0.          0.\n",
      "   1.          0.          0.          1.        ]\n",
      " [-0.67320988 -0.26070136  1.          0.          1.          0.\n",
      "   0.          1.          0.          0.        ]\n",
      " [ 1.62534265  0.63778957  0.          0.          0.          0.\n",
      "   1.          1.          0.          0.        ]]\n"
     ]
    }
   ],
   "source": [
    "# Use X_test, and the same preprocessings as in training pipeline, \n",
    "# but call \"transform()\" instead of \"fit_transform\" methods (see example below)\n",
    "\n",
    "print(\"Encoding categorical features and standardizing numerical features...\")\n",
    "\n",
    "X_test = preprocessor.transform(X_test)\n",
    "print(\"...Done\")\n",
    "print(X_test[0:5,:])"
   ]
  },
  {
   "cell_type": "code",
   "execution_count": 198,
   "metadata": {
    "colab": {
     "base_uri": "https://localhost:8080/",
     "height": 84
    },
    "colab_type": "code",
    "id": "QS1XrzzE_jQI",
    "outputId": "866a96d2-4180-4bd1-ce54-ba052e75d485"
   },
   "outputs": [
    {
     "name": "stdout",
     "output_type": "stream",
     "text": [
      "Predictions on test set...\n",
      "...Done.\n",
      "[0 0 0 ... 0 0 0]\n",
      "\n"
     ]
    }
   ],
   "source": [
    "# Predictions on test set\n",
    "print(\"Predictions on test set...\")\n",
    "Y_test_pred = classifier.predict(X_test)\n",
    "print(\"...Done.\")\n",
    "print(Y_test_pred)\n",
    "print()"
   ]
  },
  {
   "cell_type": "markdown",
   "metadata": {
    "colab_type": "text",
    "id": "zxJCTlz0_2it"
   },
   "source": [
    "## Performance assessment"
   ]
  },
  {
   "cell_type": "code",
   "execution_count": 199,
   "metadata": {
    "colab": {
     "base_uri": "https://localhost:8080/",
     "height": 50
    },
    "colab_type": "code",
    "id": "6x7p1nyr_3UV",
    "outputId": "8e5b91ba-ca06-4486-d808-37a6aaaa8cf7"
   },
   "outputs": [
    {
     "name": "stdout",
     "output_type": "stream",
     "text": [
      "f1-score on train set :  0.7648957632817752\n",
      "f1-score on test set :  0.7568513119533526\n"
     ]
    }
   ],
   "source": [
    "# WARNING : Use the same score as the one that will be used by Kaggle !\n",
    "# Here, the f1-score will be used to assess the performances on the leaderboard\n",
    "print(\"f1-score on train set : \", f1_score(Y_train, Y_train_pred))\n",
    "print(\"f1-score on test set : \", f1_score(Y_test, Y_test_pred))"
   ]
  },
  {
   "cell_type": "code",
   "execution_count": 200,
   "metadata": {
    "colab": {
     "base_uri": "https://localhost:8080/",
     "height": 151
    },
    "colab_type": "code",
    "id": "KhDTCeBy__JK",
    "outputId": "72c82d66-d765-437e-e9ef-4ccc80e7183f"
   },
   "outputs": [
    {
     "name": "stdout",
     "output_type": "stream",
     "text": [
      "Confusion matrix on train set : \n",
      "[[246939    960]\n",
      " [  2536   5687]]\n",
      "\n",
      "Confusion matrix on test set : \n",
      "[[27392   109]\n",
      " [  308   649]]\n",
      "\n"
     ]
    }
   ],
   "source": [
    "# You can also check more performance metrics to better understand what your model is doing\n",
    "print(\"Confusion matrix on train set : \")\n",
    "print(confusion_matrix(Y_train, Y_train_pred))\n",
    "print()\n",
    "print(\"Confusion matrix on test set : \")\n",
    "print(confusion_matrix(Y_test, Y_test_pred))\n",
    "print()"
   ]
  },
  {
   "cell_type": "markdown",
   "metadata": {},
   "source": [
    "**Our baseline model reaches a f1-score of almost 76%. Now, let's refine our model and try to beat this score ! 🚀🚀**"
   ]
  },
  {
   "cell_type": "code",
   "execution_count": 201,
   "metadata": {},
   "outputs": [
    {
     "name": "stdout",
     "output_type": "stream",
     "text": [
      "Grid search...\n"
     ]
    },
    {
     "name": "stderr",
     "output_type": "stream",
     "text": [
      "C:\\Users\\Youness\\anaconda3\\envs\\ipykernel_py2\\lib\\site-packages\\sklearn\\model_selection\\_validation.py:372: FitFailedWarning:\n",
      "\n",
      "\n",
      "35 fits failed out of a total of 70.\n",
      "The score on these train-test partitions for these parameters will be set to nan.\n",
      "If these failures are not expected, you can try to debug them by setting error_score='raise'.\n",
      "\n",
      "Below are more details about the failures:\n",
      "--------------------------------------------------------------------------------\n",
      "35 fits failed with the following error:\n",
      "Traceback (most recent call last):\n",
      "  File \"C:\\Users\\Youness\\anaconda3\\envs\\ipykernel_py2\\lib\\site-packages\\sklearn\\model_selection\\_validation.py\", line 681, in _fit_and_score\n",
      "    estimator.fit(X_train, y_train, **fit_params)\n",
      "  File \"C:\\Users\\Youness\\anaconda3\\envs\\ipykernel_py2\\lib\\site-packages\\sklearn\\linear_model\\_logistic.py\", line 1461, in fit\n",
      "    solver = _check_solver(self.solver, self.penalty, self.dual)\n",
      "  File \"C:\\Users\\Youness\\anaconda3\\envs\\ipykernel_py2\\lib\\site-packages\\sklearn\\linear_model\\_logistic.py\", line 447, in _check_solver\n",
      "    raise ValueError(\n",
      "ValueError: Solver lbfgs supports only 'l2' or 'none' penalties, got l1 penalty.\n",
      "\n",
      "\n",
      "C:\\Users\\Youness\\anaconda3\\envs\\ipykernel_py2\\lib\\site-packages\\sklearn\\model_selection\\_search.py:969: UserWarning:\n",
      "\n",
      "One or more of the test scores are non-finite: [       nan 0.98423798        nan 0.98611208        nan 0.98629169\n",
      "        nan 0.98633854        nan 0.98634635        nan 0.98634635\n",
      "        nan 0.98634635]\n",
      "\n"
     ]
    },
    {
     "name": "stdout",
     "output_type": "stream",
     "text": [
      "...Done.\n",
      "Best hyperparameters :  {'C': 10.0, 'penalty': 'l2'}\n",
      "Best accuracy :  0.9863463476086849\n"
     ]
    }
   ],
   "source": [
    "from sklearn.linear_model import Ridge\n",
    "from sklearn.model_selection import GridSearchCV\n",
    "\n",
    "# Perform grid search\n",
    "print(\"Grid search...\")\n",
    "# Grid of values to be tested\n",
    "params = {\n",
    "    \"C\":np.logspace(-3,3,7),\n",
    "    \"penalty\":[\"l1\",\"l2\"]\n",
    "}\n",
    "gridsearch = GridSearchCV(classifier, param_grid = params, cv = 5) # cv : the number of folds to be used for CV\n",
    "gridsearch.fit(X_train, Y_train)\n",
    "print(\"...Done.\")\n",
    "print(\"Best hyperparameters : \", gridsearch.best_params_)\n",
    "print(\"Best accuracy : \", gridsearch.best_score_)"
   ]
  },
  {
   "cell_type": "code",
   "execution_count": 202,
   "metadata": {},
   "outputs": [
    {
     "name": "stdout",
     "output_type": "stream",
     "text": [
      "Predictions on training set...\n",
      "...Done.\n",
      "Predictions on test set...\n",
      "...Done.\n",
      "f1-score on train set :  0.7649788178333669\n",
      "f1-score on test set :  0.7568513119533526\n"
     ]
    }
   ],
   "source": [
    "# Predictions on training set\n",
    "print(\"Predictions on training set...\")\n",
    "Y_train_pred = gridsearch.predict(X_train)\n",
    "print(\"...Done.\")\n",
    "# Predictions on test set\n",
    "print(\"Predictions on test set...\")\n",
    "Y_test_pred = gridsearch.predict(X_test)\n",
    "print(\"...Done.\")\n",
    "print(\"f1-score on train set : \", f1_score(Y_train, Y_train_pred))\n",
    "print(\"f1-score on test set : \", f1_score(Y_test, Y_test_pred))"
   ]
  },
  {
   "cell_type": "markdown",
   "metadata": {},
   "source": [
    "**There is some slightly better results but not sufficient, let's use diffrent models !!**"
   ]
  },
  {
   "cell_type": "code",
   "execution_count": 203,
   "metadata": {},
   "outputs": [],
   "source": [
    "from sklearn.svm import SVC\n",
    "from sklearn.tree import DecisionTreeClassifier\n",
    "import operator\n",
    "from xgboost import XGBRegressor\n",
    "from sklearn.ensemble import RandomForestClassifier"
   ]
  },
  {
   "cell_type": "code",
   "execution_count": 204,
   "metadata": {},
   "outputs": [
    {
     "name": "stderr",
     "output_type": "stream",
     "text": [
      "C:\\Users\\Youness\\anaconda3\\envs\\ipykernel_py2\\lib\\site-packages\\sklearn\\model_selection\\_validation.py:372: FitFailedWarning:\n",
      "\n",
      "\n",
      "21 fits failed out of a total of 42.\n",
      "The score on these train-test partitions for these parameters will be set to nan.\n",
      "If these failures are not expected, you can try to debug them by setting error_score='raise'.\n",
      "\n",
      "Below are more details about the failures:\n",
      "--------------------------------------------------------------------------------\n",
      "21 fits failed with the following error:\n",
      "Traceback (most recent call last):\n",
      "  File \"C:\\Users\\Youness\\anaconda3\\envs\\ipykernel_py2\\lib\\site-packages\\sklearn\\model_selection\\_validation.py\", line 681, in _fit_and_score\n",
      "    estimator.fit(X_train, y_train, **fit_params)\n",
      "  File \"C:\\Users\\Youness\\anaconda3\\envs\\ipykernel_py2\\lib\\site-packages\\sklearn\\linear_model\\_logistic.py\", line 1461, in fit\n",
      "    solver = _check_solver(self.solver, self.penalty, self.dual)\n",
      "  File \"C:\\Users\\Youness\\anaconda3\\envs\\ipykernel_py2\\lib\\site-packages\\sklearn\\linear_model\\_logistic.py\", line 447, in _check_solver\n",
      "    raise ValueError(\n",
      "ValueError: Solver lbfgs supports only 'l2' or 'none' penalties, got l1 penalty.\n",
      "\n",
      "\n",
      "C:\\Users\\Youness\\anaconda3\\envs\\ipykernel_py2\\lib\\site-packages\\sklearn\\model_selection\\_search.py:969: UserWarning:\n",
      "\n",
      "One or more of the test scores are non-finite: [       nan 0.68148188        nan 0.75293073        nan 0.76236858\n",
      "        nan 0.76400684        nan 0.76429748        nan 0.76429748\n",
      "        nan 0.76429748]\n",
      "\n"
     ]
    }
   ],
   "source": [
    "\n",
    "#pipeline parameters\n",
    "parameters = \\\n",
    "    [ \\\n",
    "        {\n",
    "            'clf': [LogisticRegression()],\n",
    "            'C':np.logspace(-3,3,7),\n",
    "            'penalty':[\"l1\",\"l2\"]\n",
    "        },\n",
    "\n",
    "        #{\n",
    "         #   'clf': [SVC()],\n",
    "          #  'C': [0.001, 0.1, 1],\n",
    "           # 'kernel': ['linear', 'rbf']\n",
    "        #},\n",
    "\n",
    "        {\n",
    "            'clf': [DecisionTreeClassifier()],\n",
    "            'max_depth': [4, 6, 8, 10, 15],\n",
    "            'min_samples_leaf': [1, 2, 5],\n",
    "            'min_samples_split': [2, 4, 8,16]\n",
    "        },\n",
    "        \n",
    "        #{\n",
    "         #   'clf': [XGBRegressor()],\n",
    "          #  'max_depth': [3, 4, 10, 15],\n",
    "        #}\n",
    "\n",
    "        #{\n",
    "         #   'clf': [RandomForestClassifier()],\n",
    "          #  'max_depth': [2, 4, 6, 8, 10],\n",
    "           # 'min_samples_leaf': [1, 2, 5],\n",
    "           # 'min_samples_split': [2, 4, 8],\n",
    "           # 'n_estimators': [10, 20, 40, 60, 80, 100]\n",
    "        #}\n",
    "\n",
    "        \n",
    "    ]\n",
    "\n",
    "#evaluating multiple classifiers\n",
    "#based on pipeline parameters\n",
    "#-------------------------------\n",
    "result=[]\n",
    "\n",
    "for params in parameters:\n",
    "\n",
    "    #classifier\n",
    "    clf = params['clf'][0]\n",
    "\n",
    "    #getting arguments by\n",
    "    #popping out classifier\n",
    "    params.pop('clf')\n",
    "\n",
    "    #cross validation using\n",
    "    #Grid Search\n",
    "    grid = GridSearchCV(clf, param_grid=params, cv=3, scoring= 'f1')\n",
    "    grid.fit(X_train, Y_train)\n",
    "\n",
    "    #storing result\n",
    "    result.append\\\n",
    "    (\n",
    "        {\n",
    "            'grid': grid,\n",
    "            'classifier': grid.best_estimator_,\n",
    "            'best score': grid.best_score_,\n",
    "            'best params': grid.best_params_,\n",
    "            'cv': grid.cv\n",
    "        }\n",
    "    )\n",
    "\n",
    "#sorting result by best score\n",
    "result = sorted(result, key=operator.itemgetter('best score'),reverse=True)\n",
    "\n",
    "#saving best classifier\n",
    "grid = result[0]['grid']\n"
   ]
  },
  {
   "cell_type": "code",
   "execution_count": 205,
   "metadata": {},
   "outputs": [
    {
     "data": {
      "text/plain": [
       "[{'grid': GridSearchCV(cv=3, estimator=LogisticRegression(),\n",
       "               param_grid={'C': array([1.e-03, 1.e-02, 1.e-01, 1.e+00, 1.e+01, 1.e+02, 1.e+03]),\n",
       "                           'penalty': ['l1', 'l2']},\n",
       "               scoring='f1'),\n",
       "  'classifier': LogisticRegression(C=10.0),\n",
       "  'best score': 0.7642974816376572,\n",
       "  'best params': {'C': 10.0, 'penalty': 'l2'},\n",
       "  'cv': 3},\n",
       " {'grid': GridSearchCV(cv=3, estimator=DecisionTreeClassifier(),\n",
       "               param_grid={'max_depth': [4, 6, 8, 10, 15],\n",
       "                           'min_samples_leaf': [1, 2, 5],\n",
       "                           'min_samples_split': [2, 4, 8, 16]},\n",
       "               scoring='f1'),\n",
       "  'classifier': DecisionTreeClassifier(max_depth=6, min_samples_split=16),\n",
       "  'best score': 0.755780468710653,\n",
       "  'best params': {'max_depth': 6,\n",
       "   'min_samples_leaf': 1,\n",
       "   'min_samples_split': 16},\n",
       "  'cv': 3}]"
      ]
     },
     "execution_count": 205,
     "metadata": {},
     "output_type": "execute_result"
    }
   ],
   "source": [
    "result"
   ]
  },
  {
   "cell_type": "code",
   "execution_count": 206,
   "metadata": {},
   "outputs": [
    {
     "data": {
      "text/plain": [
       "[{'grid': GridSearchCV(cv=3, estimator=LogisticRegression(),\n",
       "               param_grid={'C': array([1.e-03, 1.e-02, 1.e-01, 1.e+00, 1.e+01, 1.e+02, 1.e+03]),\n",
       "                           'penalty': ['l1', 'l2']},\n",
       "               scoring='f1'),\n",
       "  'classifier': LogisticRegression(C=10.0),\n",
       "  'best score': 0.7642974816376572,\n",
       "  'best params': {'C': 10.0, 'penalty': 'l2'},\n",
       "  'cv': 3},\n",
       " {'grid': GridSearchCV(cv=3, estimator=DecisionTreeClassifier(),\n",
       "               param_grid={'max_depth': [4, 6, 8, 10, 15],\n",
       "                           'min_samples_leaf': [1, 2, 5],\n",
       "                           'min_samples_split': [2, 4, 8, 16]},\n",
       "               scoring='f1'),\n",
       "  'classifier': DecisionTreeClassifier(max_depth=6, min_samples_split=16),\n",
       "  'best score': 0.755780468710653,\n",
       "  'best params': {'max_depth': 6,\n",
       "   'min_samples_leaf': 1,\n",
       "   'min_samples_split': 16},\n",
       "  'cv': 3}]"
      ]
     },
     "execution_count": 206,
     "metadata": {},
     "output_type": "execute_result"
    }
   ],
   "source": [
    "result"
   ]
  },
  {
   "cell_type": "code",
   "execution_count": 207,
   "metadata": {},
   "outputs": [
    {
     "name": "stdout",
     "output_type": "stream",
     "text": [
      "Predictions on training set...\n",
      "...Done.\n",
      "Predictions on test set...\n",
      "...Done.\n",
      "f1-score on train set :  0.7649788178333669\n",
      "f1-score on test set :  0.7568513119533526\n"
     ]
    }
   ],
   "source": [
    "# Predictions on training set\n",
    "print(\"Predictions on training set...\")\n",
    "Y_train_pred = grid.predict(X_train)\n",
    "print(\"...Done.\")\n",
    "# Predictions on test set\n",
    "print(\"Predictions on test set...\")\n",
    "Y_test_pred = grid.predict(X_test)\n",
    "print(\"...Done.\")\n",
    "print(\"f1-score on train set : \", f1_score(Y_train, Y_train_pred))\n",
    "print(\"f1-score on test set : \", f1_score(Y_test, Y_test_pred))"
   ]
  },
  {
   "cell_type": "markdown",
   "metadata": {
    "colab_type": "text",
    "id": "6tVVDRABv91O"
   },
   "source": [
    "# Train best classifier on all data and use it to make predictions on X_without_labels\n",
    "**Before making predictions on the file conversion_data_test.csv, let's train our model on ALL the data that was in conversion_data_train.csv. Sometimes, this allows to make tiny improvements in the score because we're using more examples to train the model.**"
   ]
  },
  {
   "cell_type": "code",
   "execution_count": 208,
   "metadata": {
    "colab": {
     "base_uri": "https://localhost:8080/",
     "height": 154
    },
    "colab_type": "code",
    "id": "M14RHUadzE2p",
    "outputId": "abcfcfec-9461-4579-adbd-f23270f984eb"
   },
   "outputs": [
    {
     "name": "stderr",
     "output_type": "stream",
     "text": [
      "C:\\Users\\Youness\\anaconda3\\envs\\ipykernel_py2\\lib\\site-packages\\sklearn\\model_selection\\_validation.py:372: FitFailedWarning:\n",
      "\n",
      "\n",
      "21 fits failed out of a total of 42.\n",
      "The score on these train-test partitions for these parameters will be set to nan.\n",
      "If these failures are not expected, you can try to debug them by setting error_score='raise'.\n",
      "\n",
      "Below are more details about the failures:\n",
      "--------------------------------------------------------------------------------\n",
      "21 fits failed with the following error:\n",
      "Traceback (most recent call last):\n",
      "  File \"C:\\Users\\Youness\\anaconda3\\envs\\ipykernel_py2\\lib\\site-packages\\sklearn\\model_selection\\_validation.py\", line 681, in _fit_and_score\n",
      "    estimator.fit(X_train, y_train, **fit_params)\n",
      "  File \"C:\\Users\\Youness\\anaconda3\\envs\\ipykernel_py2\\lib\\site-packages\\sklearn\\linear_model\\_logistic.py\", line 1461, in fit\n",
      "    solver = _check_solver(self.solver, self.penalty, self.dual)\n",
      "  File \"C:\\Users\\Youness\\anaconda3\\envs\\ipykernel_py2\\lib\\site-packages\\sklearn\\linear_model\\_logistic.py\", line 447, in _check_solver\n",
      "    raise ValueError(\n",
      "ValueError: Solver lbfgs supports only 'l2' or 'none' penalties, got l1 penalty.\n",
      "\n",
      "\n",
      "C:\\Users\\Youness\\anaconda3\\envs\\ipykernel_py2\\lib\\site-packages\\sklearn\\model_selection\\_search.py:969: UserWarning:\n",
      "\n",
      "One or more of the test scores are non-finite: [       nan 0.69086349        nan 0.75551702        nan 0.76289068\n",
      "        nan 0.76419037        nan 0.76415581        nan 0.76411007\n",
      "        nan 0.76411007]\n",
      "\n"
     ]
    },
    {
     "data": {
      "text/plain": [
       "GridSearchCV(cv=3, estimator=LogisticRegression(),\n",
       "             param_grid={'C': array([1.e-03, 1.e-02, 1.e-01, 1.e+00, 1.e+01, 1.e+02, 1.e+03]),\n",
       "                         'penalty': ['l1', 'l2']},\n",
       "             scoring='f1')"
      ]
     },
     "execution_count": 208,
     "metadata": {},
     "output_type": "execute_result"
    }
   ],
   "source": [
    "# Concatenate our train and test set to train your best classifier on all data with labels\n",
    "X = np.append(X_train,X_test,axis=0)\n",
    "Y = np.append(Y_train,Y_test)\n",
    "\n",
    "grid.fit(X,Y)"
   ]
  },
  {
   "cell_type": "code",
   "execution_count": 209,
   "metadata": {
    "colab": {
     "base_uri": "https://localhost:8080/",
     "height": 151
    },
    "colab_type": "code",
    "id": "Tr4CEaPzzbP-",
    "outputId": "f0d1c8ed-be4b-4974-d7b9-f23a49344d9d"
   },
   "outputs": [
    {
     "name": "stdout",
     "output_type": "stream",
     "text": [
      "Prediction set (without labels) : (31620, 5)\n",
      "Convert pandas DataFrames to numpy arrays...\n",
      "...Done\n",
      "[['UK' 28 0 'Seo' 16]\n",
      " ['UK' 22 1 'Direct' 5]\n",
      " ['China' 32 1 'Seo' 1]\n",
      " ['US' 32 1 'Ads' 6]\n",
      " ['China' 25 0 'Seo' 3]]\n"
     ]
    }
   ],
   "source": [
    "# Read data without labels\n",
    "data_without_labels = pd.read_csv('Data/conversion_data_test.csv')\n",
    "print('Prediction set (without labels) :', data_without_labels.shape)\n",
    "\n",
    "# Warning : check consistency of features_list (must be the same than the features \n",
    "# used by your best classifier)\n",
    "X_without_labels = data_without_labels\n",
    "\n",
    "# Convert pandas DataFrames to numpy arrays before using scikit-learn\n",
    "print(\"Convert pandas DataFrames to numpy arrays...\")\n",
    "X_without_labels = X_without_labels.values\n",
    "print(\"...Done\")\n",
    "\n",
    "print(X_without_labels[0:5,:])"
   ]
  },
  {
   "cell_type": "code",
   "execution_count": 210,
   "metadata": {
    "colab": {
     "base_uri": "https://localhost:8080/",
     "height": 134
    },
    "colab_type": "code",
    "id": "LoUISfsT0HMR",
    "outputId": "e42dc389-5e77-4e13-ccbc-1fef4aa2c0ca"
   },
   "outputs": [
    {
     "name": "stdout",
     "output_type": "stream",
     "text": [
      "Encoding categorical features and standardizing numerical features...\n",
      "...Done\n",
      "[[-0.31028053  3.33326238  0.          0.          0.          1.\n",
      "   0.          0.          0.          1.        ]\n",
      " [-1.03613923  0.03879562  1.          0.          0.          1.\n",
      "   0.          0.          1.          0.        ]\n",
      " [ 0.17362526 -1.15919229  1.          1.          0.          0.\n",
      "   0.          0.          0.          1.        ]\n",
      " [ 0.17362526  0.3382926   1.          0.          0.          0.\n",
      "   1.          1.          0.          0.        ]\n",
      " [-0.67320988 -0.56019834  0.          1.          0.          0.\n",
      "   0.          0.          0.          1.        ]]\n"
     ]
    }
   ],
   "source": [
    "# WARNING : PUT HERE THE SAME PREPROCESSING AS FOR YOUR TEST SET\n",
    "# CHECK YOU ARE USING X_without_labels\n",
    "print(\"Encoding categorical features and standardizing numerical features...\")\n",
    "\n",
    "X_without_labels = preprocessor.transform(X_without_labels)\n",
    "print(\"...Done\")\n",
    "print(X_without_labels[0:5,:])"
   ]
  },
  {
   "cell_type": "code",
   "execution_count": 211,
   "metadata": {
    "colab": {},
    "colab_type": "code",
    "id": "7DuWSEHuwEQJ"
   },
   "outputs": [],
   "source": [
    "# Make predictions and dump to file\n",
    "# WARNING : MAKE SURE THE FILE IS A CSV WITH ONE COLUMN NAMED 'converted' AND NO INDEX !\n",
    "# WARNING : FILE NAME MUST HAVE FORMAT 'conversion_data_test_predictions_[name].csv'\n",
    "# where [name] is the name of your team/model separated by a '-'\n",
    "# For example : [name] = AURELIE-model1\n",
    "data_pred = {\n",
    "    'converted': grid.predict(X_without_labels)\n",
    "}\n",
    "\n",
    "Y_predictions = pd.DataFrame(columns=['converted'],data=data_pred)\n",
    "Y_predictions.to_csv('conversion_data_test_predictions_Youness_Logistic_Reg.csv', index=False)\n"
   ]
  },
  {
   "cell_type": "markdown",
   "metadata": {},
   "source": [
    "## Analyzing the coefficients and interpreting the result\n",
    "**In this template, we just trained a model with only one feature (total_pages_visited), so there's no analysis to be done about the feature importance 🤔**\n",
    "\n",
    "**Once you've included more features in your model, please take some time to analyze the model's parameters and try to find some lever for action to improve the newsletter's conversion rate 😎😎**"
   ]
  },
  {
   "cell_type": "code",
   "execution_count": 212,
   "metadata": {},
   "outputs": [],
   "source": [
    "X = data.loc[:, features_list]\n"
   ]
  },
  {
   "cell_type": "code",
   "execution_count": 213,
   "metadata": {},
   "outputs": [
    {
     "data": {
      "text/plain": [
       "['country', 'source']"
      ]
     },
     "execution_count": 213,
     "metadata": {},
     "output_type": "execute_result"
    }
   ],
   "source": [
    "[features_list[i] for i in categorical2_indices]"
   ]
  },
  {
   "cell_type": "code",
   "execution_count": 219,
   "metadata": {},
   "outputs": [],
   "source": [
    "Categorical2_coefs_var=[]\n",
    "for category in [features_list[i] for i in categorical2_indices]:\n",
    "    x=np.sort(X[category].unique())\n",
    "    x=x[~pd.isna(x)]\n",
    "    x=[category+'_'+str(i) for i in x]\n",
    "    Categorical2_coefs_var+=x"
   ]
  },
  {
   "cell_type": "code",
   "execution_count": 220,
   "metadata": {},
   "outputs": [],
   "source": [
    "coefs_labels=[features_list[i] for i in numeric_indices]+['New_user_1']+Categorical2_coefs_var"
   ]
  },
  {
   "cell_type": "code",
   "execution_count": 221,
   "metadata": {},
   "outputs": [
    {
     "data": {
      "application/vnd.plotly.v1+json": {
       "config": {
        "plotlyServerURL": "https://plot.ly"
       },
       "data": [
        {
         "alignmentgroup": "True",
         "hovertemplate": "x=%{x}<br>y=%{y}<extra></extra>",
         "legendgroup": "",
         "marker": {
          "color": "#4B9AC7",
          "pattern": {
           "shape": ""
          }
         },
         "name": "",
         "offsetgroup": "",
         "orientation": "v",
         "showlegend": false,
         "textposition": "auto",
         "type": "bar",
         "x": [
          "age",
          "total_pages_visited",
          "New_user_1",
          "country_China",
          "country_Germany",
          "country_UK",
          "country_US",
          "source_Ads",
          "source_Direct",
          "source_Seo"
         ],
         "xaxis": "x",
         "y": [
          -0.6063275081198793,
          2.533033217070194,
          -1.7256093099515886,
          -2.647490489320671,
          1.114190830670184,
          0.9432406171855439,
          0.5897801960130157,
          0.08096060903053995,
          -0.1346868140801953,
          0.05344735959707034
         ],
         "yaxis": "y"
        }
       ],
       "layout": {
        "barmode": "relative",
        "legend": {
         "tracegroupgap": 0
        },
        "margin": {
         "t": 60
        },
        "template": {
         "layout": {
          "colorway": [
           "#4B9AC7",
           "#4BE8E0",
           "#9DD4F3",
           "#97FBF6",
           "#2A7FAF",
           "#23B1AB",
           "#0E3449",
           "#015955"
          ]
         }
        },
        "xaxis": {
         "anchor": "y",
         "domain": [
          0,
          1
         ],
         "title": {
          "text": "x"
         }
        },
        "yaxis": {
         "anchor": "x",
         "domain": [
          0,
          1
         ],
         "title": {
          "text": "y"
         }
        }
       }
      }
     },
     "metadata": {},
     "output_type": "display_data"
    }
   ],
   "source": [
    "px.bar(x=coefs_labels,y=grid.best_estimator_.coef_[0])"
   ]
  },
  {
   "cell_type": "markdown",
   "metadata": {},
   "source": [
    "We can see here that :\n",
    "- It's better to invest in Germany, UK and US rather than China. \n",
    "- Focusing more on existing young users and gain more\n",
    "- Making the pages more attractive, in order to lead the user to visit the most\n"
   ]
  },
  {
   "cell_type": "code",
   "execution_count": null,
   "metadata": {},
   "outputs": [],
   "source": []
  }
 ],
 "metadata": {
  "colab": {
   "collapsed_sections": [],
   "name": "Projets_template.ipynb",
   "provenance": []
  },
  "kernelspec": {
   "display_name": "Python 3",
   "language": "python",
   "name": "python3"
  },
  "language_info": {
   "codemirror_mode": {
    "name": "ipython",
    "version": 3
   },
   "file_extension": ".py",
   "mimetype": "text/x-python",
   "name": "python",
   "nbconvert_exporter": "python",
   "pygments_lexer": "ipython3",
   "version": "3.9.7"
  }
 },
 "nbformat": 4,
 "nbformat_minor": 4
}
